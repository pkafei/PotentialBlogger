{
 "metadata": {
  "name": "",
  "signature": "sha256:31a61dda5a3fcfc0f827a31179acc0de4a9c23f13442f445cc925e37a3af80b1"
 },
 "nbformat": 3,
 "nbformat_minor": 0,
 "worksheets": [
  {
   "cells": [
    {
     "cell_type": "markdown",
     "metadata": {},
     "source": [
      "# Python Natural Language Processing"
     ]
    },
    {
     "cell_type": "markdown",
     "metadata": {},
     "source": [
      "Processing and classifying HuffingtonPost articles in this notebook"
     ]
    },
    {
     "cell_type": "code",
     "collapsed": false,
     "input": [
      "import nltk\n",
      "import feedparser\n",
      "import pandas as pd"
     ],
     "language": "python",
     "metadata": {},
     "outputs": [],
     "prompt_number": 1
    },
    {
     "cell_type": "markdown",
     "metadata": {},
     "source": [
      "## Put titles, links, and summaries into a dictionary"
     ]
    },
    {
     "cell_type": "code",
     "collapsed": false,
     "input": [
      "black_voices = ('http://www.huffingtonpost.com/feeds/verticals/black-voices/index.xml')\n",
      "a = feedparser.parse(black_voices)\n",
      "title = [i.title for i in a.entries]\n",
      "link = [i.link for i in a.entries]\n",
      "summary = [i.description for i in a.entries]\n",
      "\n",
      "print link[0]"
     ],
     "language": "python",
     "metadata": {},
     "outputs": [
      {
       "output_type": "stream",
       "stream": "stdout",
       "text": [
        "http://www.huffingtonpost.com/2014/10/20/camron-ebola-masks_n_6015118.html?utm_hp_ref=black-voices&ir=Black+Voices\n"
       ]
      }
     ],
     "prompt_number": 2
    },
    {
     "cell_type": "markdown",
     "metadata": {},
     "source": [
      "## Constructing a Panda DataFrame"
     ]
    },
    {
     "cell_type": "code",
     "collapsed": false,
     "input": [
      "HuffingtonPost gives you 15 items per query"
     ],
     "language": "python",
     "metadata": {},
     "outputs": []
    },
    {
     "cell_type": "code",
     "collapsed": false,
     "input": [
      "feeds = pd.DataFrame({'Titles': title, 'Links': link, 'Article_Summaries': summary })\n",
      "feeds"
     ],
     "language": "python",
     "metadata": {},
     "outputs": [
      {
       "html": [
        "<div style=\"max-height:1000px;max-width:1500px;overflow:auto;\">\n",
        "<table border=\"1\" class=\"dataframe\">\n",
        "  <thead>\n",
        "    <tr style=\"text-align: right;\">\n",
        "      <th></th>\n",
        "      <th>Article_Summaries</th>\n",
        "      <th>Links</th>\n",
        "      <th>Titles</th>\n",
        "    </tr>\n",
        "  </thead>\n",
        "  <tbody>\n",
        "    <tr>\n",
        "      <th>0 </th>\n",
        "      <td> Cam'ron's response to &lt;a href=\"http://www.huff...</td>\n",
        "      <td> http://www.huffingtonpost.com/2014/10/20/camro...</td>\n",
        "      <td> Cam'ron Is Selling The 'Fashionable' Ebola Mas...</td>\n",
        "    </tr>\n",
        "    <tr>\n",
        "      <th>1 </th>\n",
        "      <td> Before &lt;a href=\"http://www.macygray.com/\" targ...</td>\n",
        "      <td> http://www.huffingtonpost.com/2014/10/20/macy-...</td>\n",
        "      <td> Macy Gray On Her Drug Use And Reaction To Fame...</td>\n",
        "    </tr>\n",
        "    <tr>\n",
        "      <th>2 </th>\n",
        "      <td> MTV's newest season of \"The Real World\" is not...</td>\n",
        "      <td> http://www.huffingtonpost.com/2014/10/20/real-...</td>\n",
        "      <td> 'The Real World: Skeletons' Sounds Like The Da...</td>\n",
        "    </tr>\n",
        "    <tr>\n",
        "      <th>3 </th>\n",
        "      <td> One of the best things about presidential elec...</td>\n",
        "      <td> http://www.huffingtonpost.com/dr-jason-johnson...</td>\n",
        "      <td> Rand Paul Says He Can Get 30 Percent of the Bl...</td>\n",
        "    </tr>\n",
        "    <tr>\n",
        "      <th>4 </th>\n",
        "      <td> &lt;em&gt;My ancestor, Lewis Freeman, was a free Neg...</td>\n",
        "      <td> http://www.huffingtonpost.com/henry-louis-gate...</td>\n",
        "      <td> Uncovering a Free Black Man's Past: Buying a S...</td>\n",
        "    </tr>\n",
        "    <tr>\n",
        "      <th>5 </th>\n",
        "      <td> We have a challenge for you this Halloween. In...</td>\n",
        "      <td> http://www.huffingtonpost.com/2014/10/20/aband...</td>\n",
        "      <td> 12 Creepy Abandoned Places You'll Probably Fin...</td>\n",
        "    </tr>\n",
        "    <tr>\n",
        "      <th>6 </th>\n",
        "      <td> A woman can be a Victoria's Secret Angel in \"b...</td>\n",
        "      <td> http://www.huffingtonpost.com/2014/10/20/tyra-...</td>\n",
        "      <td> Tyra Banks Proves You Can Be A Feminist And A ...</td>\n",
        "    </tr>\n",
        "    <tr>\n",
        "      <th>7 </th>\n",
        "      <td> I had the good fortune to become the first Afr...</td>\n",
        "      <td> http://www.huffingtonpost.com/masai-ujiri/the-...</td>\n",
        "      <td>                          The Power of Opportunity</td>\n",
        "    </tr>\n",
        "    <tr>\n",
        "      <th>8 </th>\n",
        "      <td> Thirteen years after his anthem \"&lt;a href=\"http...</td>\n",
        "      <td> http://www.huffingtonpost.com/2014/10/20/afrom...</td>\n",
        "      <td> Afroman: 'After Marijuana Is Legalized, I'm No...</td>\n",
        "    </tr>\n",
        "    <tr>\n",
        "      <th>9 </th>\n",
        "      <td> A man has been charged with murder in connecti...</td>\n",
        "      <td> http://www.huffingtonpost.com/2014/10/20/donni...</td>\n",
        "      <td> Man Charged With Murder After 3-Year-Old Kille...</td>\n",
        "    </tr>\n",
        "    <tr>\n",
        "      <th>10</th>\n",
        "      <td> &lt;em&gt;WARNING! Major \"Walking Dead\" spoilers!&lt;/e...</td>\n",
        "      <td> http://www.huffingtonpost.com/2014/10/20/walki...</td>\n",
        "      <td> Here Are The Best Reactions To Sunday's Shocki...</td>\n",
        "    </tr>\n",
        "    <tr>\n",
        "      <th>11</th>\n",
        "      <td> &lt;p&gt;Statistically, &lt;a href=\"http://www.bwhi.org...</td>\n",
        "      <td> http://www.huffingtonpost.com/tiffany-denee-jo...</td>\n",
        "      <td> Why Are Black Women Dying of Breast Cancer, Ev...</td>\n",
        "    </tr>\n",
        "    <tr>\n",
        "      <th>12</th>\n",
        "      <td> Wangechi Mutu, Yinka Shonibare, Aida Muluneh, ...</td>\n",
        "      <td> http://www.huffingtonpost.com/2014/10/20/scad-...</td>\n",
        "      <td> 40 Contemporary African Artists Take On Dante'...</td>\n",
        "    </tr>\n",
        "    <tr>\n",
        "      <th>13</th>\n",
        "      <td> Last Monday I was arrested in Ferguson, Missou...</td>\n",
        "      <td> http://www.huffingtonpost.com/shannon-craigosn...</td>\n",
        "      <td> Love Means Getting to Say You're Sorry -- Why ...</td>\n",
        "    </tr>\n",
        "    <tr>\n",
        "      <th>14</th>\n",
        "      <td> Beyonce slipped on a floral romper for a night...</td>\n",
        "      <td> http://www.huffingtonpost.com/2014/10/20/beyon...</td>\n",
        "      <td> Beyonce Dons A Floral Romper For Night Out Wit...</td>\n",
        "    </tr>\n",
        "  </tbody>\n",
        "</table>\n",
        "</div>"
       ],
       "metadata": {},
       "output_type": "pyout",
       "prompt_number": 4,
       "text": [
        "                                    Article_Summaries  \\\n",
        "0   Cam'ron's response to <a href=\"http://www.huff...   \n",
        "1   Before <a href=\"http://www.macygray.com/\" targ...   \n",
        "2   MTV's newest season of \"The Real World\" is not...   \n",
        "3   One of the best things about presidential elec...   \n",
        "4   <em>My ancestor, Lewis Freeman, was a free Neg...   \n",
        "5   We have a challenge for you this Halloween. In...   \n",
        "6   A woman can be a Victoria's Secret Angel in \"b...   \n",
        "7   I had the good fortune to become the first Afr...   \n",
        "8   Thirteen years after his anthem \"<a href=\"http...   \n",
        "9   A man has been charged with murder in connecti...   \n",
        "10  <em>WARNING! Major \"Walking Dead\" spoilers!</e...   \n",
        "11  <p>Statistically, <a href=\"http://www.bwhi.org...   \n",
        "12  Wangechi Mutu, Yinka Shonibare, Aida Muluneh, ...   \n",
        "13  Last Monday I was arrested in Ferguson, Missou...   \n",
        "14  Beyonce slipped on a floral romper for a night...   \n",
        "\n",
        "                                                Links  \\\n",
        "0   http://www.huffingtonpost.com/2014/10/20/camro...   \n",
        "1   http://www.huffingtonpost.com/2014/10/20/macy-...   \n",
        "2   http://www.huffingtonpost.com/2014/10/20/real-...   \n",
        "3   http://www.huffingtonpost.com/dr-jason-johnson...   \n",
        "4   http://www.huffingtonpost.com/henry-louis-gate...   \n",
        "5   http://www.huffingtonpost.com/2014/10/20/aband...   \n",
        "6   http://www.huffingtonpost.com/2014/10/20/tyra-...   \n",
        "7   http://www.huffingtonpost.com/masai-ujiri/the-...   \n",
        "8   http://www.huffingtonpost.com/2014/10/20/afrom...   \n",
        "9   http://www.huffingtonpost.com/2014/10/20/donni...   \n",
        "10  http://www.huffingtonpost.com/2014/10/20/walki...   \n",
        "11  http://www.huffingtonpost.com/tiffany-denee-jo...   \n",
        "12  http://www.huffingtonpost.com/2014/10/20/scad-...   \n",
        "13  http://www.huffingtonpost.com/shannon-craigosn...   \n",
        "14  http://www.huffingtonpost.com/2014/10/20/beyon...   \n",
        "\n",
        "                                               Titles  \n",
        "0   Cam'ron Is Selling The 'Fashionable' Ebola Mas...  \n",
        "1   Macy Gray On Her Drug Use And Reaction To Fame...  \n",
        "2   'The Real World: Skeletons' Sounds Like The Da...  \n",
        "3   Rand Paul Says He Can Get 30 Percent of the Bl...  \n",
        "4   Uncovering a Free Black Man's Past: Buying a S...  \n",
        "5   12 Creepy Abandoned Places You'll Probably Fin...  \n",
        "6   Tyra Banks Proves You Can Be A Feminist And A ...  \n",
        "7                            The Power of Opportunity  \n",
        "8   Afroman: 'After Marijuana Is Legalized, I'm No...  \n",
        "9   Man Charged With Murder After 3-Year-Old Kille...  \n",
        "10  Here Are The Best Reactions To Sunday's Shocki...  \n",
        "11  Why Are Black Women Dying of Breast Cancer, Ev...  \n",
        "12  40 Contemporary African Artists Take On Dante'...  \n",
        "13  Love Means Getting to Say You're Sorry -- Why ...  \n",
        "14  Beyonce Dons A Floral Romper For Night Out Wit...  "
       ]
      }
     ],
     "prompt_number": 4
    },
    {
     "cell_type": "markdown",
     "metadata": {},
     "source": [
      "## Printing Contents in RSS Feeds"
     ]
    },
    {
     "cell_type": "code",
     "collapsed": false,
     "input": [
      "%pdb\n",
      "\n",
      "black_voices = ('http://www.huffingtonpost.com/feeds/verticals/black-voices/index.xml')\n",
      "dc = ('http://www.huffingtonpost.com/feeds/verticals/dc/index.xml') \n",
      "\n",
      "\n",
      "# Parse HuffPost Black Voices\n",
      "def parse_rss(first_feed, second_feed):\n",
      "    a = feedparser.parse(first_feed, second_feed)\n",
      "    for i in a.entries:\n",
      "        print(i.title)\n",
      "        print(i.link)\n",
      "        print(i.description)\n",
      "        print(\"\\n\") # 2 newlines\n",
      "    return parse_rss\n",
      "\n",
      "parse_rss(black_voices, dc)\n"
     ],
     "language": "python",
     "metadata": {},
     "outputs": []
    },
    {
     "cell_type": "markdown",
     "metadata": {},
     "source": [
      "### Quick Reference Magic Code is handy for quick IPython command look ups"
     ]
    },
    {
     "cell_type": "code",
     "collapsed": false,
     "input": [
      "%quickref"
     ],
     "language": "python",
     "metadata": {},
     "outputs": []
    },
    {
     "cell_type": "code",
     "collapsed": false,
     "input": [
      "Resources:\n",
      "    http://www.nltk.org/\n",
      "    http://www.huffingtonpost.com/syndication/\n",
      "    http://web.mit.edu/6.863/www/fall2012/projects/writeups/newspaper-article-classifier.pdf\n",
      "    http://www.policyagendas.org/sites/policyagendas.org/files/Boydstun_NYT_FrontPage_Codebook_0.pdf\n",
      "\n",
      "Example Code:\n",
      "    http://nbviewer.ipython.org/gist/rjweiss/7158866"
     ],
     "language": "python",
     "metadata": {},
     "outputs": []
    }
   ],
   "metadata": {}
  }
 ]
}