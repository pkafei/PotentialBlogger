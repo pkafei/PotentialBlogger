{
 "metadata": {
  "name": "",
  "signature": "sha256:424d838c34470e62e92541e29ee0097d0052afc7c88c6a5b36e00b03efbeaf02"
 },
 "nbformat": 3,
 "nbformat_minor": 0,
 "worksheets": [
  {
   "cells": [
    {
     "cell_type": "code",
     "collapsed": false,
     "input": [
      "# Python Natural Language Processing"
     ],
     "language": "python",
     "metadata": {},
     "outputs": []
    },
    {
     "cell_type": "markdown",
     "metadata": {},
     "source": [
      "I will be classifying and processing text in this notebook"
     ]
    },
    {
     "cell_type": "code",
     "collapsed": false,
     "input": [
      "import nltk\n",
      "import feedparser"
     ],
     "language": "python",
     "metadata": {},
     "outputs": [],
     "prompt_number": 9
    },
    {
     "cell_type": "code",
     "collapsed": false,
     "input": [
      "### HuffPost Black Voices"
     ],
     "language": "python",
     "metadata": {},
     "outputs": [],
     "prompt_number": 10
    },
    {
     "cell_type": "code",
     "collapsed": false,
     "input": [
      "# Parse HuffPost Black Voices\n",
      "a = feedparser.parse('http://www.huffingtonpost.com/feeds/verticals/black-voices/index.xml')\n",
      "for i in a.entries[1:2]:\n",
      "    print(i.title)\n",
      "    print(i.link)\n",
      "    print(i.description)\n",
      "    print(\"\\n\") # 2 newlines"
     ],
     "language": "python",
     "metadata": {},
     "outputs": [
      {
       "output_type": "stream",
       "stream": "stdout",
       "text": [
        "On Raven-Symon\u00e9 and Erasing Black Lesbian Identity\n",
        "http://www.huffingtonpost.com/dinean-robinson/on-raven-symone-and-erasi_b_5985782.html?utm_hp_ref=black-voices&ir=Black+Voices\n",
        "<em>\"I don't want to be labeled as gay ... [and] I'm not African-American. I'm American.\"</em><br />\n",
        "<br />\n",
        "The moment those words blared out of the TV, my Twitter timeline and Facebook newsfeed flooded with angry comments from my fellow black lesbians condemning 28-year-old former Cosby kid and Disney star Raven-Symon\u00e9. In an interview with Oprah Winfrey, Raven laid out her post-racial belief system, claiming that she doesn't want to be labeled \"gay\" or even \"African-American\" but \"a human who loves humans.\" If Raven believes for a moment that her relationship with the beautiful, gender-bending model AzMarie Livingston or her history on the show that represented and redefined the black American family in the 20th century do not loudly communicate who she is, then she is mistaken and a bit confused. <br />\n",
        "<br />\n",
        "I definitely shook my head in disbelief at what Raven said, but it didn't spark immediate anger in me. Raven missed the mark, and despite what she told Winfrey, she couldn't effectively articulate her position, but I never expected \"baby Raven,\" as Melissa Harris-Perry called her, to possess the acumen to formulate any profound statement about race, identity, or sexuality in America. In fact, when news broke that Raven was dating a woman, I silently prayed that she wouldn't be thrust to the forefront of any feminist, lesbian, or black movements. It's funny how that happens sometimes: Pretty, famous, rich woman of color starts proclaiming lesbianism (or feminism), and all of a sudden she's the official spokeswoman for an entire generation of woman warriors who've been doing this work for years. I'm not here for that. Therefore, unlike some of my black lesbian sisters, I wasn't disappointed in the fact that Raven hadn't risen to the occasion and utilized this very public interview to position herself as the image of black lesbianism in America. Quite frankly, I don't trust her with our movement. After all, this is the woman whose response to the advancement of marriage equality was to tweet \"Yay government.\"<br />\n",
        "<br />\n",
        "Apparently, Raven thinks that denouncing labels that she believes don't serve her purposes will, in some magical way, free her from racism and homophobia. She has it backwards. Rather than being harmful, owning her race and identifying as a lesbian could make things easier for her. As Dr. Beverly Tatum, the author of <em>\"Why Are All the Black Kids Sitting Together in the Cafeteria?\" and Other Conversations About Race</em>, noted in a 1992 article that \"students of color who have had the opportunity to examine the ways in which racism may have affected their own lives are able to give voice to their own experience, and to validate it rather than be demoralized by it.\" Raven is sadly unaware that by claiming both of those identities, she becomes part of a blooming, strong, passionate, resilient, powerful, sensual, educated group. Black lesbians rock! <br />\n",
        "<br />\n",
        "Refusing a label or claiming humanism does not excuse Raven from the responsibility she bears as a participant in communities where people are fighting and dying to exist. Nor does it help deconstruct the racist, homophobic systems prevalent in America. Her first steps into post-racial rhetoric were as wobbly as a toddler's, but I was more embarrassed for her than I was angry. Instead, I wished Raven had known of sister Audre Lorde's famous words from the 1982 address \"Learning From the '60s.\"<br />\n",
        "<br />\n",
        "<blockquote>Either I denied or chose between various aspects of my identity, or my work and my Blackness would be unacceptable. As a Black lesbian mother in an interracial marriage, there was usually some part of me guaranteed to offend everybody's comfortable prejudices of who I should be. That is how I learned that if I didn't define myself for myself, I would be crunched into other people's fantasies for me and eaten alive. </blockquote><br />\n",
        "<br />\n",
        "I think Raven needs Lorde's wisdom as she charts a path for herself. Denying any part of oneself is equally as harmful as accepting those unwanted labels from society, and perhaps worse. As a black woman in a same-sex relationship, Raven seems to want it both ways, but she can't prance through life reaping the benefits of the various communities that she refuses to stake a claim in. If we, the participants in black lesbianism and womanhood, fail to proclaim, through various postures, who we are, if we neglect to define and label ourselves for ourselves, then we run the risk of further invisibilizing ourselves, our communities, our struggle, our history, and, inevitably, our future.\n",
        "\n",
        "\n"
       ]
      }
     ],
     "prompt_number": 16
    },
    {
     "cell_type": "code",
     "collapsed": false,
     "input": [],
     "language": "python",
     "metadata": {},
     "outputs": []
    },
    {
     "cell_type": "markdown",
     "metadata": {},
     "source": [
      "Goals of Natural Language Processing:\n",
      "    A. Scrape blogger's content \n",
      "    B. Classify the content\n",
      "    C. Allow user to index content"
     ]
    },
    {
     "cell_type": "code",
     "collapsed": false,
     "input": [
      "Resources:\n",
      "    http://www.nltk.org/\n",
      "    http://www.huffingtonpost.com/syndication/\n",
      "    http://web.mit.edu/6.863/www/fall2012/projects/writeups/newspaper-article-classifier.pdf\n",
      "    http://www.policyagendas.org/sites/policyagendas.org/files/Boydstun_NYT_FrontPage_Codebook_0.pdf\n",
      "\n",
      "Example Code:\n",
      "    http://nbviewer.ipython.org/gist/rjweiss/7158866"
     ],
     "language": "python",
     "metadata": {},
     "outputs": []
    }
   ],
   "metadata": {}
  }
 ]
}