{
 "metadata": {
  "name": "",
  "signature": "sha256:9d639e94b9a5333e8ffc462fa09889862ce667267bc9f6dc578bac19f39e1e43"
 },
 "nbformat": 3,
 "nbformat_minor": 0,
 "worksheets": [
  {
   "cells": [
    {
     "cell_type": "markdown",
     "metadata": {},
     "source": [
      "# Python Natural Language Processing"
     ]
    },
    {
     "cell_type": "markdown",
     "metadata": {},
     "source": [
      "Processing and classifying HuffingtonPost articles in this notebook"
     ]
    },
    {
     "cell_type": "code",
     "collapsed": false,
     "input": [
      "import nltk\n",
      "import feedparser\n",
      "import pandas as pd"
     ],
     "language": "python",
     "metadata": {},
     "outputs": [],
     "prompt_number": 3
    },
    {
     "cell_type": "markdown",
     "metadata": {},
     "source": [
      "## Put titles, links, and summaries into a dictionary"
     ]
    },
    {
     "cell_type": "code",
     "collapsed": false,
     "input": [
      "black_voices = ('http://www.huffingtonpost.com/feeds/verticals/black-voices/index.xml')\n",
      "a = feedparser.parse(black_voices)\n",
      "title = [i.title for i in a.entries]\n",
      "link = [i.link for i in a.entries]\n",
      "summary = [i.description for i in a.entries]\n",
      "\n",
      "print link[0]"
     ],
     "language": "python",
     "metadata": {},
     "outputs": [
      {
       "output_type": "stream",
       "stream": "stdout",
       "text": [
        "http://www.huffingtonpost.com/2014/10/17/lee-terry-brad-ashford_n_6003976.html?utm_hp_ref=black-voices&ir=Black+Voices\n"
       ]
      }
     ],
     "prompt_number": 20
    },
    {
     "cell_type": "markdown",
     "metadata": {},
     "source": [
      "## Constructing a Panda DataFrame"
     ]
    },
    {
     "cell_type": "code",
     "collapsed": false,
     "input": [
      "HuffingtonPost gives you 15 items per query"
     ],
     "language": "python",
     "metadata": {},
     "outputs": []
    },
    {
     "cell_type": "code",
     "collapsed": false,
     "input": [
      "feeds = pd.DataFrame({'Titles': title, 'Links': link, 'Article_Summaries': summary })\n",
      "feeds.tail()"
     ],
     "language": "python",
     "metadata": {},
     "outputs": [
      {
       "html": [
        "<div style=\"max-height:1000px;max-width:1500px;overflow:auto;\">\n",
        "<table border=\"1\" class=\"dataframe\">\n",
        "  <thead>\n",
        "    <tr style=\"text-align: right;\">\n",
        "      <th></th>\n",
        "      <th>Article_Summaries</th>\n",
        "      <th>Links</th>\n",
        "      <th>Titles</th>\n",
        "    </tr>\n",
        "  </thead>\n",
        "  <tbody>\n",
        "    <tr>\n",
        "      <th>10</th>\n",
        "      <td> ABUJA, Nigeria (AP) \u2014 Nigeria's government and...</td>\n",
        "      <td> http://www.huffingtonpost.com/2014/10/17/niger...</td>\n",
        "      <td> Nigeria And Boko Haram Reportedly Reach Cease-...</td>\n",
        "    </tr>\n",
        "    <tr>\n",
        "      <th>11</th>\n",
        "      <td> GENEVA (AP) \u2014 The U.N. health agency officiall...</td>\n",
        "      <td> http://www.huffingtonpost.com/2014/10/17/ebola...</td>\n",
        "      <td>               Ebola Outbreak In Senegal Over: WHO</td>\n",
        "    </tr>\n",
        "    <tr>\n",
        "      <th>12</th>\n",
        "      <td> In 2009, Los Angeles-based photographer &lt;a hre...</td>\n",
        "      <td> http://www.huffingtonpost.com/2014/10/17/amy-e...</td>\n",
        "      <td> One Artist's Correspondence With Prisoners She...</td>\n",
        "    </tr>\n",
        "    <tr>\n",
        "      <th>13</th>\n",
        "      <td> No makeup necessary!&lt;br /&gt;\\n&lt;br /&gt;\\nJordin Spa...</td>\n",
        "      <td> http://www.huffingtonpost.com/2014/10/17/jordi...</td>\n",
        "      <td>      Jordin Sparks Snaps Some Makeup-Free Selfies</td>\n",
        "    </tr>\n",
        "    <tr>\n",
        "      <th>14</th>\n",
        "      <td> &lt;br /&gt;* Hundreds of farmers have died in Ebola...</td>\n",
        "      <td> http://www.huffingtonpost.com/2014/10/17/food-...</td>\n",
        "      <td> Food Prices Skyrocketing In Ebola-Hit Countrie...</td>\n",
        "    </tr>\n",
        "  </tbody>\n",
        "</table>\n",
        "</div>"
       ],
       "metadata": {},
       "output_type": "pyout",
       "prompt_number": 18,
       "text": [
        "                                    Article_Summaries  \\\n",
        "10  ABUJA, Nigeria (AP) \u2014 Nigeria's government and...   \n",
        "11  GENEVA (AP) \u2014 The U.N. health agency officiall...   \n",
        "12  In 2009, Los Angeles-based photographer <a hre...   \n",
        "13  No makeup necessary!<br />\\n<br />\\nJordin Spa...   \n",
        "14  <br />* Hundreds of farmers have died in Ebola...   \n",
        "\n",
        "                                                Links  \\\n",
        "10  http://www.huffingtonpost.com/2014/10/17/niger...   \n",
        "11  http://www.huffingtonpost.com/2014/10/17/ebola...   \n",
        "12  http://www.huffingtonpost.com/2014/10/17/amy-e...   \n",
        "13  http://www.huffingtonpost.com/2014/10/17/jordi...   \n",
        "14  http://www.huffingtonpost.com/2014/10/17/food-...   \n",
        "\n",
        "                                               Titles  \n",
        "10  Nigeria And Boko Haram Reportedly Reach Cease-...  \n",
        "11                Ebola Outbreak In Senegal Over: WHO  \n",
        "12  One Artist's Correspondence With Prisoners She...  \n",
        "13       Jordin Sparks Snaps Some Makeup-Free Selfies  \n",
        "14  Food Prices Skyrocketing In Ebola-Hit Countrie...  "
       ]
      }
     ],
     "prompt_number": 18
    },
    {
     "cell_type": "markdown",
     "metadata": {},
     "source": [
      "## Printing Contents in RSS Feeds"
     ]
    },
    {
     "cell_type": "code",
     "collapsed": false,
     "input": [
      "%pdb\n",
      "\n",
      "black_voices = ('http://www.huffingtonpost.com/feeds/verticals/black-voices/index.xml')\n",
      "dc = ('http://www.huffingtonpost.com/feeds/verticals/dc/index.xml') \n",
      "\n",
      "\n",
      "# Parse HuffPost Black Voices\n",
      "def parse_rss(first_feed, second_feed):\n",
      "    a = feedparser.parse(first_feed, second_feed)\n",
      "    for i in a.entries:\n",
      "        print(i.title)\n",
      "        print(i.link)\n",
      "        print(i.description)\n",
      "        print(\"\\n\") # 2 newlines\n",
      "    return parse_rss\n",
      "\n",
      "parse_rss(black_voices, dc)\n"
     ],
     "language": "python",
     "metadata": {},
     "outputs": []
    },
    {
     "cell_type": "markdown",
     "metadata": {},
     "source": [
      "### Quick Reference Magic Code is handy for quick IPython command look ups"
     ]
    },
    {
     "cell_type": "code",
     "collapsed": false,
     "input": [
      "%quickref"
     ],
     "language": "python",
     "metadata": {},
     "outputs": []
    },
    {
     "cell_type": "code",
     "collapsed": false,
     "input": [
      "Resources:\n",
      "    http://www.nltk.org/\n",
      "    http://www.huffingtonpost.com/syndication/\n",
      "    http://web.mit.edu/6.863/www/fall2012/projects/writeups/newspaper-article-classifier.pdf\n",
      "    http://www.policyagendas.org/sites/policyagendas.org/files/Boydstun_NYT_FrontPage_Codebook_0.pdf\n",
      "\n",
      "Example Code:\n",
      "    http://nbviewer.ipython.org/gist/rjweiss/7158866"
     ],
     "language": "python",
     "metadata": {},
     "outputs": []
    }
   ],
   "metadata": {}
  }
 ]
}