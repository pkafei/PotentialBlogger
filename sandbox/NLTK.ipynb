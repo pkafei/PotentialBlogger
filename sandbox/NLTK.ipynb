{
 "metadata": {
  "name": "",
  "signature": "sha256:0d942cfa7075b509d433d9ef4c3b9db9370d4168f2728b796642c59074a9c6a1"
 },
 "nbformat": 3,
 "nbformat_minor": 0,
 "worksheets": [
  {
   "cells": [
    {
     "cell_type": "markdown",
     "metadata": {},
     "source": [
      "# Python Natural Language Processing"
     ]
    },
    {
     "cell_type": "markdown",
     "metadata": {},
     "source": [
      "I will be classifying and processing text in this notebook"
     ]
    },
    {
     "cell_type": "code",
     "collapsed": false,
     "input": [
      "import nltk\n",
      "import feedparser\n",
      "import pandas"
     ],
     "language": "python",
     "metadata": {},
     "outputs": [],
     "prompt_number": 1
    },
    {
     "cell_type": "markdown",
     "metadata": {},
     "source": [
      "## Building Parser"
     ]
    },
    {
     "cell_type": "code",
     "collapsed": false,
     "input": [
      "black_voices = ('http://www.huffingtonpost.com/feeds/verticals/black-voices/index.xml')\n",
      "dc = ('http://www.huffingtonpost.com/feeds/verticals/dc/index.xml') \n",
      "\n",
      "\n",
      "# Parse HuffPost Black Voices\n",
      "def parse_rss(feed):\n",
      "    a = feedparser.parse(feed)\n",
      "    for i in a.entries:\n",
      "        print(i.title)\n",
      "        print(i.link)\n",
      "        print(i.description)\n",
      "        print(\"\\n\") # 2 newlines\n",
      "    return parse\n",
      "\n",
      "parse_rss(dc)\n"
     ],
     "language": "python",
     "metadata": {},
     "outputs": []
    },
    {
     "cell_type": "markdown",
     "metadata": {},
     "source": [
      "Goals of Natural Language Processing:\n",
      "    A. Scrape blogger's content \n",
      "    B. Classify the content\n",
      "    C. Allow user to index content"
     ]
    },
    {
     "cell_type": "code",
     "collapsed": false,
     "input": [
      "Resources:\n",
      "    http://www.nltk.org/\n",
      "    http://www.huffingtonpost.com/syndication/\n",
      "    http://web.mit.edu/6.863/www/fall2012/projects/writeups/newspaper-article-classifier.pdf\n",
      "    http://www.policyagendas.org/sites/policyagendas.org/files/Boydstun_NYT_FrontPage_Codebook_0.pdf\n",
      "\n",
      "Example Code:\n",
      "    http://nbviewer.ipython.org/gist/rjweiss/7158866"
     ],
     "language": "python",
     "metadata": {},
     "outputs": []
    }
   ],
   "metadata": {}
  }
 ]
}