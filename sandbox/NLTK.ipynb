{
 "metadata": {
  "name": "",
  "signature": "sha256:ef810a41960e21fcccaf6b1cfabd8d456b10a9666e335916a3aca7250a7030e6"
 },
 "nbformat": 3,
 "nbformat_minor": 0,
 "worksheets": [
  {
   "cells": [
    {
     "cell_type": "markdown",
     "metadata": {},
     "source": [
      "# Python Natural Language Processing"
     ]
    },
    {
     "cell_type": "markdown",
     "metadata": {},
     "source": [
      "I will be classifying and processing text in this notebook"
     ]
    },
    {
     "cell_type": "code",
     "collapsed": false,
     "input": [
      "import nltk\n",
      "import feedparser\n",
      "import pandas"
     ],
     "language": "python",
     "metadata": {},
     "outputs": [],
     "prompt_number": 1
    },
    {
     "cell_type": "markdown",
     "metadata": {},
     "source": [
      "## Building Parser"
     ]
    },
    {
     "cell_type": "code",
     "collapsed": false,
     "input": [
      "%pdb\n",
      "\n",
      "black_voices = ('http://www.huffingtonpost.com/feeds/verticals/black-voices/index.xml')\n",
      "dc = ('http://www.huffingtonpost.com/feeds/verticals/dc/index.xml') \n",
      "\n",
      "\n",
      "# Parse HuffPost Black Voices\n",
      "def parse_rss(first_feed, second_feed):\n",
      "    a = feedparser.parse(first_feed, second_feed)\n",
      "    for i in a.entries:\n",
      "        print(i.title)\n",
      "        print(i.link)\n",
      "        print(i.description)\n",
      "        print(\"\\n\") # 2 newlines\n",
      "    return parse_rss\n",
      "\n",
      "parse_rss(black_voices, dc)\n"
     ],
     "language": "python",
     "metadata": {},
     "outputs": []
    },
    {
     "cell_type": "markdown",
     "metadata": {},
     "source": [
      "## Put titles, links, and summaries into a dictionary"
     ]
    },
    {
     "cell_type": "code",
     "collapsed": false,
     "input": [
      "for post in d.entries:\n",
      "    print post.title + \": \" + post.link + \"\\n\""
     ],
     "language": "python",
     "metadata": {},
     "outputs": []
    },
    {
     "cell_type": "code",
     "collapsed": false,
     "input": [
      "dc = ('http://www.huffingtonpost.com/feeds/verticals/black-voices/index.xml')\n",
      "def rss_elements():\n",
      "    a = feedparser.parse(dc)\n",
      "    title = [i.title for i in a.entries]\n",
      "    link = [i.link for i in a.entries]\n",
      "    summary = [i.description for i in a.entries]\n",
      "    return rss_elements\n",
      "\n",
      "print link[1]"
     ],
     "language": "python",
     "metadata": {},
     "outputs": [
      {
       "output_type": "stream",
       "stream": "stdout",
       "text": [
        "http://www.huffingtonpost.com/2014/10/17/mellie-sex-tape-scandal_n_6004264.html?utm_hp_ref=black-voices&ir=Black+Voices\n"
       ]
      }
     ],
     "prompt_number": 38
    },
    {
     "cell_type": "code",
     "collapsed": false,
     "input": [
      "## Put link summar"
     ],
     "language": "python",
     "metadata": {},
     "outputs": []
    },
    {
     "cell_type": "code",
     "collapsed": false,
     "input": [
      "type(summary)"
     ],
     "language": "python",
     "metadata": {},
     "outputs": []
    },
    {
     "cell_type": "code",
     "collapsed": false,
     "input": [
      "%quickref"
     ],
     "language": "python",
     "metadata": {},
     "outputs": []
    },
    {
     "cell_type": "markdown",
     "metadata": {},
     "source": [
      "Goals of Natural Language Processing:\n",
      "    A. Scrape blogger's content \n",
      "    B. Classify the content\n",
      "    C. Allow user to index content"
     ]
    },
    {
     "cell_type": "code",
     "collapsed": false,
     "input": [
      "Resources:\n",
      "    http://www.nltk.org/\n",
      "    http://www.huffingtonpost.com/syndication/\n",
      "    http://web.mit.edu/6.863/www/fall2012/projects/writeups/newspaper-article-classifier.pdf\n",
      "    http://www.policyagendas.org/sites/policyagendas.org/files/Boydstun_NYT_FrontPage_Codebook_0.pdf\n",
      "\n",
      "Example Code:\n",
      "    http://nbviewer.ipython.org/gist/rjweiss/7158866"
     ],
     "language": "python",
     "metadata": {},
     "outputs": []
    }
   ],
   "metadata": {}
  }
 ]
}