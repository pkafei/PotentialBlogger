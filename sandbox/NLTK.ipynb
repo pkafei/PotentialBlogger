{
 "metadata": {
  "name": "",
  "signature": "sha256:38a4ce475b0acdb5095f32b111e86405c382ebcb280d6f43d239facd127f8b78"
 },
 "nbformat": 3,
 "nbformat_minor": 0,
 "worksheets": [
  {
   "cells": [
    {
     "cell_type": "code",
     "collapsed": false,
     "input": [
      "# Python Natural Language Processing"
     ],
     "language": "python",
     "metadata": {},
     "outputs": []
    },
    {
     "cell_type": "markdown",
     "metadata": {},
     "source": [
      "I will be classifying and processing text in this notebook"
     ]
    },
    {
     "cell_type": "code",
     "collapsed": false,
     "input": [
      "import nltk\n",
      "import feedparser\n",
      "import pandas"
     ],
     "language": "python",
     "metadata": {},
     "outputs": [],
     "prompt_number": 1
    },
    {
     "cell_type": "code",
     "collapsed": false,
     "input": [
      "### HuffPost Black Voices"
     ],
     "language": "python",
     "metadata": {},
     "outputs": [],
     "prompt_number": 10
    },
    {
     "cell_type": "code",
     "collapsed": false,
     "input": [
      "## Dataframse\n",
      "\n",
      "Title\n",
      "\n",
      "Article\n",
      "\n",
      "Subject"
     ],
     "language": "python",
     "metadata": {},
     "outputs": []
    },
    {
     "cell_type": "code",
     "collapsed": false,
     "input": [
      "## Testing and Training Data\n",
      "\n",
      "article_training\n",
      "\n",
      "article_testing"
     ],
     "language": "python",
     "metadata": {},
     "outputs": []
    },
    {
     "cell_type": "code",
     "collapsed": false,
     "input": [
      "## Newspaper articles"
     ],
     "language": "python",
     "metadata": {},
     "outputs": []
    },
    {
     "cell_type": "code",
     "collapsed": false,
     "input": [
      "feeds = ('http://www.huffingtonpost.com/feeds/verticals/black-voices/index.xml','http://www.huffingtonpost.com/feeds/verticals/huffpost-home/index.xml')\n",
      "\n",
      "\n",
      "# Parse HuffPost Black Voices\n",
      "a = feedparser.parse(feeds)\n",
      "for i in a.entries:\n",
      "    print(i.title)\n",
      "    print(i.link)\n",
      "    print(i.description)\n",
      "    print(\"\\n\") # 2 newlines"
     ],
     "language": "python",
     "metadata": {},
     "outputs": [],
     "prompt_number": 10
    },
    {
     "cell_type": "code",
     "collapsed": false,
     "input": [],
     "language": "python",
     "metadata": {},
     "outputs": []
    },
    {
     "cell_type": "markdown",
     "metadata": {},
     "source": [
      "Goals of Natural Language Processing:\n",
      "    A. Scrape blogger's content \n",
      "    B. Classify the content\n",
      "    C. Allow user to index content"
     ]
    },
    {
     "cell_type": "code",
     "collapsed": false,
     "input": [
      "Resources:\n",
      "    http://www.nltk.org/\n",
      "    http://www.huffingtonpost.com/syndication/\n",
      "    http://web.mit.edu/6.863/www/fall2012/projects/writeups/newspaper-article-classifier.pdf\n",
      "    http://www.policyagendas.org/sites/policyagendas.org/files/Boydstun_NYT_FrontPage_Codebook_0.pdf\n",
      "\n",
      "Example Code:\n",
      "    http://nbviewer.ipython.org/gist/rjweiss/7158866"
     ],
     "language": "python",
     "metadata": {},
     "outputs": []
    }
   ],
   "metadata": {}
  }
 ]
}