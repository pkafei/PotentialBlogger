{
 "metadata": {
  "name": "",
  "signature": "sha256:8f977249748421acc72d88ec9469249a86bed4ef1a259fbce492dffd1a4ef88f"
 },
 "nbformat": 3,
 "nbformat_minor": 0,
 "worksheets": [
  {
   "cells": [
    {
     "cell_type": "code",
     "collapsed": false,
     "input": [
      "from bs4 import BeautifulSoup\n",
      "import urllib2\n",
      "import re"
     ],
     "language": "python",
     "metadata": {},
     "outputs": [],
     "prompt_number": 2
    },
    {
     "cell_type": "markdown",
     "metadata": {},
     "source": [
      "# Clean Working Copy of Code"
     ]
    },
    {
     "cell_type": "code",
     "collapsed": false,
     "input": [
      "BASE_URL = \"http://dailytekk.com/2013/11/18/the-100-best-most-interesting-blogs-and-websites-of-2014-2/\"\n",
      "\n",
      "def get_category_links(section_url):\n",
      "    header = {'User-Agent': 'Mozilla/5.0'}\n",
      "    req = urllib2.Request(BASE_URL, headers=header)\n",
      "    page = urllib2.urlopen(req)\n",
      "    soup = BeautifulSoup(page, \"lxml\")\n",
      "    title = soup.find(\"div\", \"entry-content\")\n",
      "    category_titles = title.findAll(\"h2\")\n",
      "    #ct = [tag.name for tag in category_titles]\n",
      "    print category_titles\n",
      "    return category_titles\n",
      "\n",
      "get_category_links(BASE_URL)\n",
      "\n"
     ],
     "language": "python",
     "metadata": {},
     "outputs": [
      {
       "output_type": "stream",
       "stream": "stdout",
       "text": [
        "[<h2>Past Highlights\u2026</h2>, <h2>Must Reads</h2>, <h2>For When You\u2019re Bored</h2>, <h2>Design, Art, Photography</h2>, <h2>Lifestyle</h2>, <h2>That\u2019s Just Cool\u2026</h2>, <h2>Learn Something</h2>, <h2>Current Events</h2>, <h2>Culture &amp; Trends</h2>, <h2>Technology</h2>, <h2>Absolutely Don\u2019t Miss</h2>]\n"
       ]
      },
      {
       "metadata": {},
       "output_type": "pyout",
       "prompt_number": 42,
       "text": [
        "[<h2>Past Highlights\u2026</h2>,\n",
        " <h2>Must Reads</h2>,\n",
        " <h2>For When You\u2019re Bored</h2>,\n",
        " <h2>Design, Art, Photography</h2>,\n",
        " <h2>Lifestyle</h2>,\n",
        " <h2>That\u2019s Just Cool\u2026</h2>,\n",
        " <h2>Learn Something</h2>,\n",
        " <h2>Current Events</h2>,\n",
        " <h2>Culture &amp; Trends</h2>,\n",
        " <h2>Technology</h2>,\n",
        " <h2>Absolutely Don\u2019t Miss</h2>]"
       ]
      }
     ],
     "prompt_number": 42
    },
    {
     "cell_type": "markdown",
     "metadata": {},
     "source": [
      "## Stackoverflow Implementation of Code"
     ]
    },
    {
     "cell_type": "code",
     "collapsed": false,
     "input": [
      "# Try giving this line of code a try \n",
      "\n",
      "for line in cards_table:\n",
      "    for row in line.find_all('a'):\n",
      "        print row\n",
      "\n",
      "http://stackoverflow.com/questions/15879948/beautifulsoup-resultset-object-has-no-attribute-find-all-solved"
     ],
     "language": "python",
     "metadata": {},
     "outputs": []
    },
    {
     "cell_type": "code",
     "collapsed": false,
     "input": [
      "html = \"<p>Good, <b>bad</b>, and <i>ug<b>l</b><u>y</u></i></p>\"\n",
      "invalid_tags = ['b', 'i', 'u']\n",
      "soup = BeautifulSoup(html)\n",
      "for tag in invalid_tags: \n",
      "    for match in soup.findAll(tag):\n",
      "        match.replaceWithChildren()\n",
      "print soup"
     ],
     "language": "python",
     "metadata": {},
     "outputs": []
    },
    {
     "cell_type": "markdown",
     "metadata": {},
     "source": []
    },
    {
     "cell_type": "code",
     "collapsed": false,
     "input": [
      "BASE_URL = \"http://dailytekk.com/2013/11/18/the-100-best-most-interesting-blogs-and-websites-of-2014-2/\"\n",
      "\n",
      "def get_category_links(section_url):\n",
      "    header = {'User-Agent': 'Mozilla/5.0'}\n",
      "    req = urllib2.Request(BASE_URL, headers=header)\n",
      "    page = urllib2.urlopen(req)\n",
      "    soup = BeautifulSoup(page, \"lxml\")\n",
      "    invalid_tags = ('h2')\n",
      "    title = soup.find(\"div\", \"entry-content\")\n",
      "    for tag in invalid_tags:\n",
      "        for row in title.findAll(\"h2\"):\n",
      "            print row\n",
      "    #ct = [tag.name for tag in category_titles]\n",
      "    #print category_titles\n",
      "    return title\n",
      "\n",
      "get_category_links(BASE_URL)\n",
      "#Commentary: Well you have a prettified list of the titles but you have yet to strip the tags.\n",
      "# This output would be a more acceptable way of putting into a database."
     ],
     "language": "python",
     "metadata": {},
     "outputs": [
      {
       "output_type": "stream",
       "stream": "stdout",
       "text": [
        "<h2>Past Highlights\u2026</h2>\n",
        "<h2>Must Reads</h2>\n",
        "<h2>For When You\u2019re Bored</h2>\n",
        "<h2>Design, Art, Photography</h2>\n",
        "<h2>Lifestyle</h2>\n",
        "<h2>That\u2019s Just Cool\u2026</h2>\n",
        "<h2>Learn Something</h2>\n",
        "<h2>Current Events</h2>\n",
        "<h2>Culture &amp; Trends</h2>\n",
        "<h2>Technology</h2>\n",
        "<h2>Absolutely Don\u2019t Miss</h2>\n",
        "<h2>Past Highlights\u2026</h2>\n",
        "<h2>Must Reads</h2>\n",
        "<h2>For When You\u2019re Bored</h2>\n",
        "<h2>Design, Art, Photography</h2>\n",
        "<h2>Lifestyle</h2>\n",
        "<h2>That\u2019s Just Cool\u2026</h2>\n",
        "<h2>Learn Something</h2>\n",
        "<h2>Current Events</h2>\n",
        "<h2>Culture &amp; Trends</h2>\n",
        "<h2>Technology</h2>\n",
        "<h2>Absolutely Don\u2019t Miss</h2>\n"
       ]
      },
      {
       "metadata": {},
       "output_type": "pyout",
       "prompt_number": 11,
       "text": [
        "<div class=\"entry-content content\">\n",
        "<p>Welcome to the most awesome blog post you\u2019re going to see all year. Yep, it\u2019s the third installment in the super-popular annual series in which I document the sites I think you\u2019ll want to spend a lot of time on in the coming year (below you\u2019ll find a few highlights from recent years in case you missed out). I have one major rule: a site can only appear on this list once, so there are never any duplicates. Every year this list is 100% fresh. Every list also takes on a life of it\u2019s own. The categories change, but the grading criteria remains the same: I look at design, content and that creative \u201cx-factor\u201d that sets a site apart from the pack. I hope at least 95% of these sites are new to you. There are a couple that I simply couldn\u2019t believe I hadn\u2019t included before. You\u2019ll know which ones when you see them. Putting together this list each year is a lot of (fun) work that literally takes many months. As I run into interesting blogs and websites I save them in an Evernote file, slowly begin categorizing them, weed out sites that don\u2019t belong, etc. Disclaimer: if you find something you don\u2019t like in one (or more) of the sites below, sorry, but I\u2019m simply not able to vet every piece of content produced by 100 sites. I\u2019ve tried my best to keep this list in the category of safe to view at work. Finally, as you spend some time on this site it is my hope that you will come to view DailyTekk as one of your favorite sites as well. I work hard to publish fresh technology finds (hardware and software), interesting opinions, reviews, roundups and more. If that sounds interesting to you, please take a moment to add DailyTekk to your Flipboard or Digg Reader account, <a class=\"snppopup\" href=\"http://eepurl.com/IZKQn\" target=\"_blank\">subscribe</a> to email updates or <a class=\"snppopup\" href=\"http://www.twitter.com/dailytekk\" target=\"_blank\">follow</a> on Twitter. Enjoy, and I\u2019ll see you next year!</p>\n",
        "<h2>Past Highlights\u2026</h2>\n",
        "<p><strong>2013 Favorites \u2013 <a href=\"http://dailytekk.com/2013/01/14/the-100-best-most-interesting-blogs-and-websites-of-2013/\">View Entire List</a><br/>\n",
        "</strong></p>\n",
        "<ol>\n",
        "<li><a class=\"snppopup\" href=\"http://www.visualnews.com/\" target=\"_blank\">Visual News</a> \u2013 The cure for eyeball boredom.</li>\n",
        "<li><a class=\"snppopup\" href=\"https://www.readmatter.com/\" target=\"_blank\">Matter</a> \u2013 Crafts award-winning journalism about science, tech, ideas.</li>\n",
        "<li><a class=\"snppopup\" href=\"http://flavorwire.com/\" target=\"_blank\">Flavorwire</a> \u2013 Cultural events, art, books, music, world news.</li>\n",
        "<li><a class=\"snppopup\" href=\"http://trendland.com/\" target=\"_blank\">Trendland</a> \u2013 Design, fashion, art, photography.</li>\n",
        "<li><a class=\"snppopup\" href=\"http://whowhatwhy.com/\" target=\"_blank\">WhoWhatWhy</a> \u2013 \u201cWe don\u2019t cover the news\u2014we uncover the truth.\u201d</li>\n",
        "</ol>\n",
        "<p><strong>2012 Favorites \u2013 <a href=\"http://dailytekk.com/2012/02/08/the-100-best-most-interesting-blogs-and-websites-of-2012/\">View Entire List</a><br/>\n",
        "</strong></p>\n",
        "<ol>\n",
        "<li><a class=\"snppopup\" href=\"http://uncrate.com/\" target=\"_blank\">Uncrate</a> \u2013 The digital magazine for guys who love stuff.</li>\n",
        "<li><a class=\"snppopup\" href=\"http://www.mymodernmet.com/\" target=\"_blank\">My Modern Met</a> \u2013 Beautiful photography, incredible art, clever design.</li>\n",
        "<li><a class=\"snppopup\" href=\"http://twistedsifter.com\" target=\"_blank\">TwistedSifter</a> \u2013 Photos that educate, entertain, and inspire each and every day.</li>\n",
        "<li><a class=\"snppopup\" href=\"http://theselby.com\" target=\"_blank\">The Selby</a> \u2013 Photos, paintings and videos of interesting people in creative spaces.</li>\n",
        "<li><a class=\"snppopup\" href=\"http://theburninghouse.com/\" target=\"_blank\">The Burning House</a> \u2013 If your house were burning, what would you take with you?</li>\n",
        "</ol>\n",
        "<h2>Must Reads</h2>\n",
        "<p><img alt=\"\" class=\"alignnone size-full wp-image-11038\" data-lazy-src=\"http://dailytekk.com/wp-content/uploads/2013/11/Screen-Shot-2014-03-20-at-12.15.33-PM-e1395339482261.png\" height=\"379\" src=\"http://dailytekk.com/wp-content/plugins/lazy-load/images/1x1.trans.gif\" width=\"690\"/></p><noscript><img alt=\"\" class=\"alignnone size-full wp-image-11038\" height=\"379\" src=\"http://dailytekk.com/wp-content/uploads/2013/11/Screen-Shot-2014-03-20-at-12.15.33-PM-e1395339482261.png\" width=\"690\"/></noscript>\n",
        "<ol>\n",
        "<li><a href=\"http://dailytekk.com/\">DailyTekk</a>\u00a0\u2013 The best tech site you\u2019ve never heard of. Prepare to be addicted. (Sponsored)</li>\n",
        "<li><a class=\"snppopup\" href=\"https://medium.com/\" target=\"_blank\">Medium</a> \u2013 Read the best stories based on your interests (founded by Twitter co-founder).</li>\n",
        "<li><a class=\"snppopup\" href=\"https://svbtle.com/\" target=\"_blank\">svbtle</a> \u2013 A new kind of magazine. Thoughts. Stories. Ideas.</li>\n",
        "<li><a class=\"snppopup\" href=\"http://www.dailydot.com/\" target=\"_blank\">The Daily Dot</a> \u2013 Your Internet. Your Internet news.</li>\n",
        "<li><a class=\"snppopup\" href=\"http://www.theconnectivist.com/\" target=\"_blank\">The Connectivist</a> \u2013 How entertainment, technology, and consumer experience intersect.</li>\n",
        "<li><a class=\"snppopup\" href=\"http://nautil.us\" target=\"_blank\">Nautil.us</a> \u2013 Weaving science, culture and philosophy into a single narrative each week.</li>\n",
        "<li><a class=\"snppopup\" href=\"http://narrative.ly/\" target=\"_blank\">Narratively</a> \u2013 Local stories, rambunctiously told.</li>\n",
        "<li><a class=\"snppopup\" href=\"http://www.betterlivingthroughdesign.com/\" target=\"_blank\">bltd</a> (Better Living Through Design) \u2013 Design guide to home and style.</li>\n",
        "<li><a class=\"snppopup\" href=\"http://www.kernelmag.com\" target=\"_blank\">The Kernel</a> \u2013 Tech, media and politics for inquiring minds.</li>\n",
        "<li><a class=\"snppopup\" href=\"https://medium.com/war-is-boring/\" target=\"_blank\">War Is Boring</a> \u2013 Exploring how and why we fight.</li>\n",
        "<li><a class=\"snppopup\" href=\"http://www.mediaredefined.com/\" target=\"_blank\">MediaREDEF</a> \u2013 A curated interest mix of media+tech+pop content.</li>\n",
        "</ol>\n",
        "<h2>For When You\u2019re Bored</h2>\n",
        "<p><a class=\"snppopup\" href=\"http://comediansincarsgettingcoffee.com/\" target=\"_blank\"><img alt=\"comediansincarscoffee\" class=\"alignnone size-full wp-image-10190\" data-lazy-src=\"http://dailytekk.com/wp-content/uploads/2013/11/comediansincarscoffee.png\" height=\"508\" src=\"http://dailytekk.com/wp-content/plugins/lazy-load/images/1x1.trans.gif\" width=\"690\"/><noscript><img alt=\"comediansincarscoffee\" class=\"alignnone size-full wp-image-10190\" height=\"508\" src=\"http://dailytekk.com/wp-content/uploads/2013/11/comediansincarscoffee.png\" width=\"690\"/></noscript></a></p>\n",
        "<ol>\n",
        "<li><a class=\"snppopup\" href=\"http://comediansincarsgettingcoffee.com/\" target=\"_blank\">Comedians In Cars Getting Coffee</a> \u2013 Jerry Seinfeld pals around with some of his friends.</li>\n",
        "<li><a class=\"snppopup\" href=\"http://grouchyrabbit.com/\" target=\"_blank\">Grouchy Rabbit</a> \u2013 Information for successful living.</li>\n",
        "<li><a class=\"snppopup\" href=\"http://foxinthepine.com/\" target=\"_blank\">Fox in the Pine</a> \u2013 Catherine shares photos of her life and inspiration from others.</li>\n",
        "<li><a class=\"snppopup\" href=\"http://www.2leep.com/\" target=\"_blank\">2leep</a> \u2013 Interesting links.</li>\n",
        "<li><a class=\"snppopup\" href=\"http://www.wonderhowto.com/\" target=\"_blank\">Wonder How To</a> \u2013 Wonderland for your inner nerd.</li>\n",
        "<li><a class=\"snppopup\" href=\"http://attackofthecute.com/\" target=\"_blank\">Attack of the Cute</a> \u2013 A collection of cute stuff.</li>\n",
        "<li><a class=\"snppopup\" href=\"http://honestslogans.com/\" target=\"_blank\">Honest Slogans</a> \u2013 What people really think about brands.</li>\n",
        "<li><a class=\"snppopup\" href=\"http://slowrobot.com/\" target=\"_blank\">Slow Robot</a> \u2013 Share images and videos you enjoy with like-minded people.</li>\n",
        "<li><a class=\"snppopup\" href=\"http://www.vat19.com/\" target=\"_blank\">Vat19</a> \u2013 Unique\u2026 stuff (to buy).</li>\n",
        "<li><a class=\"snppopup\" href=\"http://www.thisiswhyimbroke.com/\" target=\"_blank\">This Is Why I\u2019m Broke</a> \u2013 The Internet\u2019s mall.</li>\n",
        "</ol>\n",
        "<h2>Design, Art, Photography</h2>\n",
        "<p><a class=\"snppopup\" href=\"http://serifsandsans.com/\" target=\"_blank\"><img alt=\"serifsandsans\" class=\"alignnone size-full wp-image-10191\" data-lazy-src=\"http://dailytekk.com/wp-content/uploads/2013/11/serifsandsans.png\" height=\"508\" src=\"http://dailytekk.com/wp-content/plugins/lazy-load/images/1x1.trans.gif\" width=\"690\"/><noscript><img alt=\"serifsandsans\" class=\"alignnone size-full wp-image-10191\" height=\"508\" src=\"http://dailytekk.com/wp-content/uploads/2013/11/serifsandsans.png\" width=\"690\"/></noscript></a></p>\n",
        "<ol>\n",
        "<li><a class=\"snppopup\" href=\"http://serifsandsans.com/\" target=\"_blank\">Serifs &amp; Sans</a> \u2013 Minimalism, modernism and typography.</li>\n",
        "<li><a class=\"snppopup\" href=\"http://butdoesitfloat.com/\" target=\"_blank\">but does it float</a> \u2013 Awesome collections of interesting art, design and photography.</li>\n",
        "<li><a class=\"snppopup\" href=\"http://www.stylepark.com/\" target=\"_blank\">Stylepark</a> \u2013 Design, architecture and designers.</li>\n",
        "<li><a class=\"snppopup\" href=\"http://www.shutterbean.com/\" target=\"_blank\">Shutterbean</a> \u2013 Food, photography and pretty things.</li>\n",
        "<li><a class=\"snppopup\" href=\"http://www.pbs.org/art21/\" target=\"_blank\">Art21</a> \u2013 Engaging contemporary art. Inspiring creative thinking (PBS).</li>\n",
        "<li><a class=\"snppopup\" href=\"http://www.designworklife.com/\" target=\"_blank\">Design Work Life</a> \u2013 Cataloging design inspiration daily. From the team at Seamless Creative.</li>\n",
        "<li><a class=\"snppopup\" href=\"http://www.70degreeswest.com\" target=\"_blank\">70 Degrees West</a> \u2013 Nature and travel photography.</li>\n",
        "<li><a class=\"snppopup\" href=\"http://www.picturecorrect.com/\" target=\"_blank\">PictureCorrect</a> \u2013 Photography tips and techniques.</li>\n",
        "<li><a class=\"snppopup\" href=\"http://designdautore.blogspot.it/\" target=\"_blank\">Design Dautore</a> \u2013 An Italian design and trends online magazine.</li>\n",
        "<li><a class=\"snppopup\" href=\"http://www.lightstalking.com/\" target=\"_blank\">Light Stalking</a> \u2013 A site about beautiful photography.</li>\n",
        "</ol>\n",
        "<h2>Lifestyle</h2>\n",
        "<p><a class=\"snppopup\" href=\"http://greatist.com/\" target=\"_blank\"><img alt=\"greatist\" class=\"alignnone size-full wp-image-10192\" data-lazy-src=\"http://dailytekk.com/wp-content/uploads/2013/11/greatist.png\" height=\"508\" src=\"http://dailytekk.com/wp-content/plugins/lazy-load/images/1x1.trans.gif\" width=\"690\"/><noscript><img alt=\"greatist\" class=\"alignnone size-full wp-image-10192\" height=\"508\" src=\"http://dailytekk.com/wp-content/uploads/2013/11/greatist.png\" width=\"690\"/></noscript></a></p>\n",
        "<ol>\n",
        "<li><a class=\"snppopup\" href=\"http://greatist.com/\" target=\"_blank\">Greatist</a> \u2013 Health and fitness news, tips, recipes and exercises.</li>\n",
        "<li><a class=\"snppopup\" href=\"http://www.nylonguysmag.com/\" target=\"_blank\">NYLON Guys</a> \u2013 Not for girls.</li>\n",
        "<li><a class=\"snppopup\" href=\"http://www.maskcara.com/\" target=\"_blank\">Maskcara</a> \u2013 A makeup artist and lover of all beautiful things.</li>\n",
        "<li><a class=\"snppopup\" href=\"http://www.thenest.com/\" target=\"_blank\">The Nest</a> \u2013 The Web\u2019s round-the-clock spot for hip and harried married gals.</li>\n",
        "<li><a class=\"snppopup\" href=\"http://www.theminimalists.com\" target=\"_blank\">The Minimalists</a> \u2013 2 guys write about living a meaningful life with less stuff.</li>\n",
        "<li><a class=\"snppopup\" href=\"http://www.wherecoolthingshappen.com\" target=\"_blank\">Where Cool Things Happen</a> \u2013 Travel and lifestyle inspiration.</li>\n",
        "<li><a class=\"snppopup\" href=\"http://londonist.com/\" target=\"_blank\">Londonist</a> \u2013 Everything interesting that\u2019s happening in London.</li>\n",
        "<li><a class=\"snppopup\" href=\"http://bakeat350.blogspot.com/\" target=\"_blank\">Bake at 350</a> \u2013 Bridget is just a girl who loves cookies\u2026</li>\n",
        "<li><a class=\"snppopup\" href=\"http://www.tend.com/\" target=\"_blank\">Tend</a> \u2013 Fresh advice on kids, family fun, kitchen and home.</li>\n",
        "<li><a class=\"snppopup\" href=\"http://www.xojane.com/\" target=\"_blank\">xoJane</a> \u2013 Where women go.</li>\n",
        "</ol>\n",
        "<h2>That\u2019s Just Cool\u2026</h2>\n",
        "<p><a class=\"snppopup\" href=\"http://outgrow.me/\" target=\"_blank\"><img alt=\"outgrowme\" class=\"alignnone size-full wp-image-10193\" data-lazy-src=\"http://dailytekk.com/wp-content/uploads/2013/11/outgrowme.png\" height=\"508\" src=\"http://dailytekk.com/wp-content/plugins/lazy-load/images/1x1.trans.gif\" width=\"690\"/><noscript><img alt=\"outgrowme\" class=\"alignnone size-full wp-image-10193\" height=\"508\" src=\"http://dailytekk.com/wp-content/uploads/2013/11/outgrowme.png\" width=\"690\"/></noscript></a></p>\n",
        "<ol>\n",
        "<li><a class=\"snppopup\" href=\"http://outgrow.me/\" target=\"_blank\">Outgrow.me</a> \u2013 The marketplace for successfully crowdfunded products.</li>\n",
        "<li><a class=\"snppopup\" href=\"http://hadonejob.com/\" target=\"_blank\">You Had One Job!</a> \u2013 Gathering all the careless mistakes in one place (photos).</li>\n",
        "<li><a class=\"snppopup\" href=\"http://www.scoutingny.com/\" target=\"_blank\">Scouting NY</a> \u2013 See New York through the eyes of a movie location scout.</li>\n",
        "<li><a class=\"snppopup\" href=\"http://www.betabrand.com/\" target=\"_blank\">Betabrand</a> \u2013 You want, they make. Prototypes are turned into fashionable products.</li>\n",
        "<li><a class=\"snppopup\" href=\"http://www.funofart.com/\" target=\"_blank\">Funofart</a> \u2013 Lots of fun photography broken down into many categories.</li>\n",
        "<li><a class=\"snppopup\" href=\"http://coffitivity.com/\" target=\"_blank\">Coffitivity</a> \u2013 Sounds that increase your creativity.</li>\n",
        "<li><a class=\"snppopup\" href=\"http://luxurylaunches.com/\" target=\"_blank\">Luxury Launches</a> \u2013 Expensive, opulent, extravagant.</li>\n",
        "<li><a class=\"snppopup\" href=\"http://goodmenproject.com/\" target=\"_blank\">The Good Men Project</a> \u2013 For guys who aren\u2019t mindless, sex-obsessed buffoons.</li>\n",
        "<li><a class=\"snppopup\" href=\"http://www.adventure-journal.com/\" target=\"_blank\">Adventure Journal</a> \u2013 Online magazine dedicated to outdoor adventure in all it\u2019s forms.</li>\n",
        "<li><a class=\"snppopup\" href=\"http://www.collectorsweekly.com/\" target=\"_blank\">Collectors Weekly</a> \u2013 Best of antiques, vintage, collecting.</li>\n",
        "</ol>\n",
        "<h2>Learn Something</h2>\n",
        "<p><a class=\"snppopup\" href=\"https://diy.org/\" target=\"_blank\"><img alt=\"diy\" class=\"alignnone size-full wp-image-10194\" data-lazy-src=\"http://dailytekk.com/wp-content/uploads/2013/11/diy.png\" height=\"508\" src=\"http://dailytekk.com/wp-content/plugins/lazy-load/images/1x1.trans.gif\" width=\"690\"/><noscript><img alt=\"diy\" class=\"alignnone size-full wp-image-10194\" height=\"508\" src=\"http://dailytekk.com/wp-content/uploads/2013/11/diy.png\" width=\"690\"/></noscript></a></p>\n",
        "<ol>\n",
        "<li><a class=\"snppopup\" href=\"https://diy.org/\" target=\"_blank\">DIY</a> \u2013 Get skills. Be awesome.</li>\n",
        "<li><a class=\"snppopup\" href=\"http://www.urbanobservatory.org/\" target=\"_blank\">Urban Observatory</a> \u2013 Observe the \u201cliving fabric\u201d of different large cities visually.</li>\n",
        "<li><a class=\"snppopup\" href=\"http://www.todayifoundout.com/\" target=\"_blank\">Today I Found Out</a> \u2013 Learn interesting facts everyday.</li>\n",
        "<li><a class=\"snppopup\" href=\"http://curious.com/\" target=\"_blank\">Curious.com</a> \u2013 Learn, teach and share online lessons.</li>\n",
        "<li><a class=\"snppopup\" href=\"http://www.linkedin.com/channels/myfirstjob?goback=.mpd2_*1_*1_*1_*1_*1_*1_20131105122656*5187399433*5my*5first*5job*5what*5unloading*5beer*5taught*5me*5about*5leadership&amp;trk=tod-post-tag\" target=\"_blank\">My First Job</a> \u2013 Top-notch executives talk about what they learned from their first job.</li>\n",
        "<li><a class=\"snppopup\" href=\"https://www.youtube.com/playlist?list=PLC02CFDE5690E4010\" target=\"_blank\">Sick Science!</a> \u2013 Easy, hands-on science experiments you can do at home.</li>\n",
        "<li><a class=\"snppopup\" href=\"http://chartgirl.com/\" target=\"_blank\">ChartGirl</a> \u2013 For things best explained with charts.</li>\n",
        "<li><a class=\"snppopup\" href=\"http://thebillfold.com/\" target=\"_blank\">The Billfold</a> \u2013 Everything you wanted to learn about money but were too polite to ask.</li>\n",
        "<li><a class=\"snppopup\" href=\"http://www.learnvest.com/category/life-and-money/\" target=\"_blank\">Learn Vest Must Reads</a> \u2013 Non-boring money tips and advice.</li>\n",
        "<li><a class=\"snppopup\" href=\"http://www.forvo.com/\" target=\"_blank\">Forvo</a> \u2013 All the words in the world. Pronounced.</li>\n",
        "</ol>\n",
        "<h2>Current Events</h2>\n",
        "<p><a class=\"snppopup\" href=\"http://www.nowthisnews.com/\" target=\"_blank\"><img alt=\"nowthisnews\" data-lazy-src=\"http://dailytekk.com/wp-content/uploads/2013/11/nowthisnews.png\" height=\"508\" src=\"http://dailytekk.com/wp-content/plugins/lazy-load/images/1x1.trans.gif\" width=\"690\"/><noscript><img alt=\"nowthisnews\" height=\"508\" src=\"http://dailytekk.com/wp-content/uploads/2013/11/nowthisnews.png\" width=\"690\"/></noscript></a></p>\n",
        "<ol>\n",
        "<li><a class=\"snppopup\" href=\"http://www.nowthisnews.com/\" target=\"_blank\">NowThis News</a> \u2013 The news in your pocket.</li>\n",
        "<li><a class=\"snppopup\" href=\"http://www.niemanlab.org/\" target=\"_blank\">Nieman Journalism Lab</a> \u2013 Publishing the future of journalism (Harvard).</li>\n",
        "<li><a class=\"snppopup\" href=\"http://www.businessinsider.com\" target=\"_blank\">Business Insider</a> \u2013 Tech, finance, media and other verticals under one roof.</li>\n",
        "<li><a class=\"snppopup\" href=\"http://www.propublica.org/\" target=\"_blank\">ProPublica</a> \u2013 Journalism in the public interest.</li>\n",
        "<li><a class=\"snppopup\" href=\"http://www.worldcrunch.com\" target=\"_blank\">Worldcrunch</a> \u2013 Selecting, translating and editing content from top foreign outlets.</li>\n",
        "<li><a class=\"snppopup\" href=\"http://www.theepochtimes.com\" target=\"_blank\">The Epoch Times</a> \u2013 Uncensored news that values freedom of the press and humanity.</li>\n",
        "<li><a class=\"snppopup\" href=\"http://www.onthemedia.org\" target=\"_blank\">On The Media</a> (OTM) \u2013 Tackles sticky issues with a frankness and transparency (NPR).</li>\n",
        "<li><a class=\"snppopup\" href=\"http://www.coindesk.com/\" target=\"_blank\">CoinDesk</a> \u2013 The voice of digital currency (Bitcoin news, prices, charts).</li>\n",
        "<li><a class=\"snppopup\" href=\"http://talkingpointsmemo.com\" target=\"_blank\">Talking Points Memo</a> (TPM) \u2013 A digitally native political publication.</li>\n",
        "<li><a class=\"snppopup\" href=\"http://www.weforum.org/\" target=\"_blank\">The World Economic Forum</a> \u2013 Improving the state of the world by engaging leaders.</li>\n",
        "</ol>\n",
        "<h2>Culture &amp; Trends</h2>\n",
        "<p><a class=\"snppopup\" href=\"http://www.reddit.com/\" target=\"_blank\"><img alt=\"reddit\" data-lazy-src=\"http://dailytekk.com/wp-content/uploads/2013/11/reddit.png\" height=\"508\" src=\"http://dailytekk.com/wp-content/plugins/lazy-load/images/1x1.trans.gif\" width=\"690\"/><noscript><img alt=\"reddit\" height=\"508\" src=\"http://dailytekk.com/wp-content/uploads/2013/11/reddit.png\" width=\"690\"/></noscript></a></p>\n",
        "<ol>\n",
        "<li><a class=\"snppopup\" href=\"http://www.reddit.com/\" target=\"_blank\">Reddit</a> \u2013 A website about everything. Powered by community, democracy and you.</li>\n",
        "<li><a class=\"snppopup\" href=\"http://hyperallergic.com\" target=\"_blank\">HyperAllergic</a> \u2013 Playful, serious, and radical perspectives on art and culture.</li>\n",
        "<li><a class=\"snppopup\" href=\"http://airshipdaily.com/\" target=\"_blank\">The Airship</a> \u2013 Surveying literature, arts and culture.</li>\n",
        "<li><a class=\"snppopup\" href=\"http://www.inquisitr.com/\" target=\"_blank\">The Inquisitr</a> \u2013 The latest stories to hit the web in entertainment, tech, news and more.</li>\n",
        "<li><a class=\"snppopup\" href=\"http://hypervocal.com\" target=\"_blank\">HyperVocal</a> \u2013 Purveyors of the vital and viral. Your Internet sherpas.</li>\n",
        "<li><a class=\"snppopup\" href=\"http://www.avclub.com/\" target=\"_blank\">The A.V. Club</a> \u2013 Pop-culture news, interviews and features.</li>\n",
        "<li><a class=\"snppopup\" href=\"http://thedailywhat.cheezburger.com/\" target=\"_blank\">The Daily What</a> \u2013 Trending Internet culture (Cheezburger).</li>\n",
        "<li><a class=\"snppopup\" href=\"http://www.videogum.com/\" target=\"_blank\">Videogum</a> \u2013 TV, movies and viral videos.</li>\n",
        "<li><a class=\"snppopup\" href=\"http://www.artlog.com/\" target=\"_blank\">Artlog</a> \u2013 Everything you need to know in culture this week.</li>\n",
        "<li><a class=\"snppopup\" href=\"http://modernmechanix.com/\" target=\"_blank\">Modern Mechanix</a> \u2013 Yesterday\u2019s tomorrow, today. Classic stuff.</li>\n",
        "</ol>\n",
        "<h2>Technology</h2>\n",
        "<p><a class=\"snppopup\" href=\"http://daringfireball.net/\" target=\"_blank\"><img alt=\"daringfireball\" class=\"alignnone size-full wp-image-10195\" data-lazy-src=\"http://dailytekk.com/wp-content/uploads/2013/11/daringfireball.png\" height=\"508\" src=\"http://dailytekk.com/wp-content/plugins/lazy-load/images/1x1.trans.gif\" width=\"690\"/><noscript><img alt=\"daringfireball\" class=\"alignnone size-full wp-image-10195\" height=\"508\" src=\"http://dailytekk.com/wp-content/uploads/2013/11/daringfireball.png\" width=\"690\"/></noscript></a></p>\n",
        "<ol>\n",
        "<li><a class=\"snppopup\" href=\"http://daringfireball.net/\" target=\"_blank\">Daring Fireball</a> \u2013 John Gruber talks Apple (and people pay attention).</li>\n",
        "<li><a class=\"snppopup\" href=\"http://www.pocket-lint.com/\" target=\"_blank\">Pocket-lint</a> \u2013 Gadget news and reviews.</li>\n",
        "<li><a class=\"snppopup\" href=\"http://www.techhive.com/\" target=\"_blank\">TechHive</a> \u2013 Products you\u2019ll love and how to get the most out of them.</li>\n",
        "<li><a class=\"snppopup\" href=\"http://www.techdirt.com/\" target=\"_blank\">Techdirt</a> \u2013 Insight and analysis on technology, government policy, legal issues and more.</li>\n",
        "<li><a class=\"snppopup\" href=\"http://www.geekwire.com/\" target=\"_blank\">GeekWire</a> \u2013 Dispatches from the digital frontier.</li>\n",
        "<li><a class=\"snppopup\" href=\"http://thewirecutter.com/\" target=\"_blank\">The Wirecutter</a> \u2013 The best technology to buy as determined by research and testing.</li>\n",
        "<li><a class=\"snppopup\" href=\"http://www.gadgetreview.com/\" target=\"_blank\">Gadget Review</a> \u2013 Lifestyle gadget site.</li>\n",
        "<li><a class=\"snppopup\" href=\"http://bgr.com/\" target=\"_blank\">BGR</a> (Boy Genius Report) \u2013 Mobile and tech news, reviews, opinions, insights.</li>\n",
        "<li><a class=\"snppopup\" href=\"http://www.anandtech.com/\" target=\"_blank\">AnandTech</a> \u2013 A deeper dive into tech down to the component level.</li>\n",
        "<li><a class=\"snppopup\" href=\"http://www.osnews.com/\" target=\"_blank\">OSNews</a> \u2013 Exploring the future of computing.</li>\n",
        "</ol>\n",
        "<h2>Absolutely Don\u2019t Miss</h2>\n",
        "<p><a class=\"snppopup\" href=\"http://5secondfilms.com/\" target=\"_blank\"><img alt=\"5secondfilms\" class=\"alignnone size-full wp-image-10196\" data-lazy-src=\"http://dailytekk.com/wp-content/uploads/2013/11/5secondfilms.png\" height=\"508\" src=\"http://dailytekk.com/wp-content/plugins/lazy-load/images/1x1.trans.gif\" width=\"690\"/><noscript><img alt=\"5secondfilms\" class=\"alignnone size-full wp-image-10196\" height=\"508\" src=\"http://dailytekk.com/wp-content/uploads/2013/11/5secondfilms.png\" width=\"690\"/></noscript></a></p>\n",
        "<ol>\n",
        "<li><a class=\"snppopup\" href=\"http://5secondfilms.com/\" target=\"_blank\">5-Second Films</a> \u2013 A new film every weekday.</li>\n",
        "<li><a class=\"snppopup\" href=\"http://www.mediabistro.com/\" target=\"_blank\">Mediabistro</a> \u2013 News and more for media professionals.</li>\n",
        "<li><a class=\"snppopup\" href=\"http://www.conferencebites.com/\" target=\"_blank\">Conference Bites</a> \u2013 Big ideas for short attention spans.</li>\n",
        "<li><a class=\"snppopup\" href=\"http://www.abandonedamerica.us/\" target=\"_blank\">Abandoned America</a> \u2013 Forgotten places and spaces around America.</li>\n",
        "<li><a class=\"snppopup\" href=\"https://roadtrippers.com/\" target=\"_blank\">Roadtrippers</a> \u2013 Discover your America.</li>\n",
        "<li><a class=\"snppopup\" href=\"http://digiday.com/\" target=\"_blank\">Digiday</a> \u2013 Digital media, advertising and marketing.</li>\n",
        "<li><a class=\"snppopup\" href=\"http://splitsider.com\" target=\"_blank\">Splitsider</a> \u2013 A website about comedy and the people who create it.</li>\n",
        "<li><a class=\"snppopup\" href=\"http://theoatmeal.com/\" target=\"_blank\">The Oatmeal</a> \u2013 Comics, quizzes and more.</li>\n",
        "<li><a class=\"snppopup\" href=\"http://www.largeheartedboy.com/blog/archive/book_notes_2012/\" target=\"_blank\">Largehearted Boy Book Notes</a> \u2013 Authors discuss the music they had on while writing books.</li>\n",
        "<li><a class=\"snppopup\" href=\"http://notalwaysright.com/\" target=\"_blank\">Not Always Right</a> \u2013 Are customers always right? These stories say otherwise\u2026</li>\n",
        "</ol>\n",
        "<div class=\"sharedaddy sd-sharing-enabled\"><div class=\"robots-nocontent sd-block sd-social sd-social-icon-text sd-sharing\"><h3 class=\"sd-title\">Share this:</h3><div class=\"sd-content\"><ul><li class=\"share-facebook\"><a class=\"share-facebook sd-button share-icon\" href=\"http://dailytekk.com/2013/11/18/the-100-best-most-interesting-blogs-and-websites-of-2014-2/?share=facebook\" id=\"sharing-facebook-10060\" rel=\"nofollow\" title=\"Share on Facebook\"><span>Facebook</span></a></li><li class=\"share-twitter\"><a class=\"share-twitter sd-button share-icon\" href=\"http://dailytekk.com/2013/11/18/the-100-best-most-interesting-blogs-and-websites-of-2014-2/?share=twitter\" id=\"sharing-twitter-10060\" rel=\"nofollow\" title=\"Click to share on Twitter\"><span>Twitter</span></a></li><li class=\"share-pinterest\"><a class=\"share-pinterest sd-button share-icon\" href=\"http://dailytekk.com/2013/11/18/the-100-best-most-interesting-blogs-and-websites-of-2014-2/?share=pinterest\" rel=\"nofollow\" title=\"Click to share on Pinterest\"><span>Pinterest</span></a></li><li class=\"share-stumbleupon\"><a class=\"share-stumbleupon sd-button share-icon\" href=\"http://dailytekk.com/2013/11/18/the-100-best-most-interesting-blogs-and-websites-of-2014-2/?share=stumbleupon\" rel=\"nofollow\" title=\"Click to share on StumbleUpon\"><span>StumbleUpon</span></a></li><li class=\"share-linkedin\"><a class=\"share-linkedin sd-button share-icon\" href=\"http://dailytekk.com/2013/11/18/the-100-best-most-interesting-blogs-and-websites-of-2014-2/?share=linkedin\" id=\"sharing-linkedin-10060\" rel=\"nofollow\" title=\"Click to share on LinkedIn\"><span>LinkedIn</span></a></li><li class=\"share-email\"><a class=\"share-email sd-button share-icon\" href=\"http://dailytekk.com/2013/11/18/the-100-best-most-interesting-blogs-and-websites-of-2014-2/?share=email\" rel=\"nofollow\" title=\"Click to email this to a friend\"><span>Email</span></a></li><li><a class=\"sharing-anchor sd-button share-more\" href=\"#\"><span>More</span></a></li><li class=\"share-end\"></li></ul><div class=\"sharing-hidden\"><div class=\"inner\" style=\"display: none;\"><ul><li class=\"share-reddit\"><a class=\"share-reddit sd-button share-icon\" href=\"http://dailytekk.com/2013/11/18/the-100-best-most-interesting-blogs-and-websites-of-2014-2/?share=reddit\" rel=\"nofollow\" title=\"Click to share on Reddit\"><span>Reddit</span></a></li><li class=\"share-google-plus-1\"><a class=\"share-google-plus-1 sd-button share-icon\" href=\"http://dailytekk.com/2013/11/18/the-100-best-most-interesting-blogs-and-websites-of-2014-2/?share=google-plus-1\" id=\"sharing-google-10060\" rel=\"nofollow\" title=\"Click to share on Google+\"><span>Google</span></a></li><li class=\"share-end\"></li><li class=\"share-tumblr\"><a class=\"share-tumblr sd-button share-icon\" href=\"http://dailytekk.com/2013/11/18/the-100-best-most-interesting-blogs-and-websites-of-2014-2/?share=tumblr\" rel=\"nofollow\" title=\"Click to share on Tumblr\"><span>Tumblr</span></a></li><li class=\"share-pocket\"><a class=\"share-pocket sd-button share-icon\" href=\"http://dailytekk.com/2013/11/18/the-100-best-most-interesting-blogs-and-websites-of-2014-2/?share=pocket\" rel=\"nofollow\" title=\"Click to share on Pocket\"><span>Pocket</span></a></li><li class=\"share-end\"></li><li class=\"share-end\"></li></ul></div></div></div></div></div> </div>"
       ]
      }
     ],
     "prompt_number": 11
    },
    {
     "cell_type": "code",
     "collapsed": false,
     "input": [
      "# Experimental Code"
     ],
     "language": "python",
     "metadata": {},
     "outputs": []
    },
    {
     "cell_type": "code",
     "collapsed": false,
     "input": [
      "BASE_URL = \"http://dailytekk.com/2013/11/18/the-100-best-most-interesting-blogs-and-websites-of-2014-2/\"\n",
      "\n",
      "'''def get_category_links(section_url):\n",
      "    header = {'User-Agent': 'Mozilla/5.0'}\n",
      "    req = urllib2.Request(BASE_URL, headers=header)\n",
      "    page = urllib2.urlopen(req)\n",
      "    soup = BeautifulSoup(page, \"lxml\")\n",
      "    title = soup.find(\"div\", \"entry-content\")\n",
      "    category_titles = title.findAll(\"h2\")\n",
      "    #category_links = [BASE_URL + p.a[\"href\"] for p in boccat.findAll(\"p\")]\n",
      "    #print category_titles\n",
      "    return category_titles '''\n",
      "\n",
      "def clean_category_links(category_titles):\n",
      "    header = {'User-Agent': 'Mozilla/5.0'}\n",
      "    req = urllib2.Request(BASE_URL, headers=header)\n",
      "    page = urllib2.urlopen(req)\n",
      "    soup = BeautifulSoup(page, \"lxml\")\n",
      "    title = soup.find(\"div\", \"entry-content\")\n",
      "    category_titles = title.findAll(\"h2\")\n",
      "    ct = [category_titles.replace('h2', '') for c in category_titles]\n",
      "    print ct\n",
      "    return ct\n",
      "\n",
      "clean_category_links(BASE_URL)"
     ],
     "language": "python",
     "metadata": {},
     "outputs": [
      {
       "ename": "AttributeError",
       "evalue": "'ResultSet' object has no attribute 'replace'",
       "output_type": "pyerr",
       "traceback": [
        "\u001b[0;31m---------------------------------------------------------------------------\u001b[0m\n\u001b[0;31mAttributeError\u001b[0m                            Traceback (most recent call last)",
        "\u001b[0;32m<ipython-input-37-44c84a9f485b>\u001b[0m in \u001b[0;36m<module>\u001b[0;34m()\u001b[0m\n\u001b[1;32m     23\u001b[0m     \u001b[0;32mreturn\u001b[0m \u001b[0mct\u001b[0m\u001b[0;34m\u001b[0m\u001b[0m\n\u001b[1;32m     24\u001b[0m \u001b[0;34m\u001b[0m\u001b[0m\n\u001b[0;32m---> 25\u001b[0;31m \u001b[0mclean_category_links\u001b[0m\u001b[0;34m(\u001b[0m\u001b[0mBASE_URL\u001b[0m\u001b[0;34m)\u001b[0m\u001b[0;34m\u001b[0m\u001b[0m\n\u001b[0m",
        "\u001b[0;32m<ipython-input-37-44c84a9f485b>\u001b[0m in \u001b[0;36mclean_category_links\u001b[0;34m(category_titles)\u001b[0m\n\u001b[1;32m     19\u001b[0m     \u001b[0mtitle\u001b[0m \u001b[0;34m=\u001b[0m \u001b[0msoup\u001b[0m\u001b[0;34m.\u001b[0m\u001b[0mfind\u001b[0m\u001b[0;34m(\u001b[0m\u001b[0;34m\"div\"\u001b[0m\u001b[0;34m,\u001b[0m \u001b[0;34m\"entry-content\"\u001b[0m\u001b[0;34m)\u001b[0m\u001b[0;34m\u001b[0m\u001b[0m\n\u001b[1;32m     20\u001b[0m     \u001b[0mcategory_titles\u001b[0m \u001b[0;34m=\u001b[0m \u001b[0mtitle\u001b[0m\u001b[0;34m.\u001b[0m\u001b[0mfindAll\u001b[0m\u001b[0;34m(\u001b[0m\u001b[0;34m\"h2\"\u001b[0m\u001b[0;34m)\u001b[0m\u001b[0;34m\u001b[0m\u001b[0m\n\u001b[0;32m---> 21\u001b[0;31m     \u001b[0mct\u001b[0m \u001b[0;34m=\u001b[0m \u001b[0;34m[\u001b[0m\u001b[0mcategory_titles\u001b[0m\u001b[0;34m.\u001b[0m\u001b[0mreplace\u001b[0m\u001b[0;34m(\u001b[0m\u001b[0;34m'h2'\u001b[0m\u001b[0;34m,\u001b[0m \u001b[0;34m''\u001b[0m\u001b[0;34m)\u001b[0m \u001b[0;32mfor\u001b[0m \u001b[0mc\u001b[0m \u001b[0;32min\u001b[0m \u001b[0mcategory_titles\u001b[0m\u001b[0;34m]\u001b[0m\u001b[0;34m\u001b[0m\u001b[0m\n\u001b[0m\u001b[1;32m     22\u001b[0m     \u001b[0;32mprint\u001b[0m \u001b[0mct\u001b[0m\u001b[0;34m\u001b[0m\u001b[0m\n\u001b[1;32m     23\u001b[0m     \u001b[0;32mreturn\u001b[0m \u001b[0mct\u001b[0m\u001b[0;34m\u001b[0m\u001b[0m\n",
        "\u001b[0;31mAttributeError\u001b[0m: 'ResultSet' object has no attribute 'replace'"
       ]
      }
     ],
     "prompt_number": 37
    },
    {
     "cell_type": "code",
     "collapsed": false,
     "input": [
      "html = \"<p>Good, <b>bad</b>, and <i>ug<b>l</b><u>y</u></i></p>\"\n",
      "invalid_tags = ['i', 'u', 'body', 'p', 'b', 'html']\n",
      "soup = BeautifulSoup(html)\n",
      "for tag in invalid_tags: \n",
      "    for match in soup.findAll(tag):\n",
      "        match.replaceWithChildren()\n",
      "print soup"
     ],
     "language": "python",
     "metadata": {},
     "outputs": [
      {
       "output_type": "stream",
       "stream": "stdout",
       "text": [
        "Good, bad, and ugly\n"
       ]
      }
     ],
     "prompt_number": 35
    },
    {
     "cell_type": "code",
     "collapsed": false,
     "input": [
      "## The more Advanced Example "
     ],
     "language": "python",
     "metadata": {},
     "outputs": [],
     "prompt_number": 9
    },
    {
     "cell_type": "code",
     "collapsed": false,
     "input": [
      "BASE_URL = \"http://dailytekk.com/2013/11/18/the-100-best-most-interesting-blogs-and-websites-of-2014-2/\"\n",
      "\n",
      "def get_category_links(section_url):\n",
      "    header = {'User-Agent': 'Mozilla/5.0'}\n",
      "    req = urllib2.Request(BASE_URL, headers=header)\n",
      "    page = urllib2.urlopen(req)\n",
      "    soup = BeautifulSoup(page, \"lxml\")\n",
      "    boccat = soup.find(\"div\", \"entry-content content\")\n",
      "    category_links = [BASE_URL + p.a[\"href\"] for p in boccat.findAll(\"p\")]\n",
      "    print category_links\n",
      "    return category_links\n",
      "\n",
      "#winner = [h2.string for h2 in soup.findAll(\"h2\", \"boc1\")]\n",
      "\n",
      "get_category_links(BASE_URL)"
     ],
     "language": "python",
     "metadata": {},
     "outputs": [
      {
       "ename": "TypeError",
       "evalue": "'NoneType' object has no attribute '__getitem__'",
       "output_type": "pyerr",
       "traceback": [
        "\u001b[0;31m---------------------------------------------------------------------------\u001b[0m\n\u001b[0;31mTypeError\u001b[0m                                 Traceback (most recent call last)",
        "\u001b[0;32m<ipython-input-36-099abfda6aef>\u001b[0m in \u001b[0;36m<module>\u001b[0;34m()\u001b[0m\n\u001b[1;32m     13\u001b[0m \u001b[0;31m#winner = [h2.string for h2 in soup.findAll(\"h2\", \"boc1\")]\u001b[0m\u001b[0;34m\u001b[0m\u001b[0;34m\u001b[0m\u001b[0m\n\u001b[1;32m     14\u001b[0m \u001b[0;34m\u001b[0m\u001b[0m\n\u001b[0;32m---> 15\u001b[0;31m \u001b[0mget_category_links\u001b[0m\u001b[0;34m(\u001b[0m\u001b[0mBASE_URL\u001b[0m\u001b[0;34m)\u001b[0m\u001b[0;34m\u001b[0m\u001b[0m\n\u001b[0m",
        "\u001b[0;32m<ipython-input-36-099abfda6aef>\u001b[0m in \u001b[0;36mget_category_links\u001b[0;34m(section_url)\u001b[0m\n\u001b[1;32m      7\u001b[0m     \u001b[0msoup\u001b[0m \u001b[0;34m=\u001b[0m \u001b[0mBeautifulSoup\u001b[0m\u001b[0;34m(\u001b[0m\u001b[0mpage\u001b[0m\u001b[0;34m,\u001b[0m \u001b[0;34m\"lxml\"\u001b[0m\u001b[0;34m)\u001b[0m\u001b[0;34m\u001b[0m\u001b[0m\n\u001b[1;32m      8\u001b[0m     \u001b[0mboccat\u001b[0m \u001b[0;34m=\u001b[0m \u001b[0msoup\u001b[0m\u001b[0;34m.\u001b[0m\u001b[0mfind\u001b[0m\u001b[0;34m(\u001b[0m\u001b[0;34m\"div\"\u001b[0m\u001b[0;34m,\u001b[0m \u001b[0;34m\"entry-content content\"\u001b[0m\u001b[0;34m)\u001b[0m\u001b[0;34m\u001b[0m\u001b[0m\n\u001b[0;32m----> 9\u001b[0;31m     \u001b[0mcategory_links\u001b[0m \u001b[0;34m=\u001b[0m \u001b[0;34m[\u001b[0m\u001b[0mBASE_URL\u001b[0m \u001b[0;34m+\u001b[0m \u001b[0mp\u001b[0m\u001b[0;34m.\u001b[0m\u001b[0ma\u001b[0m\u001b[0;34m[\u001b[0m\u001b[0;34m\"href\"\u001b[0m\u001b[0;34m]\u001b[0m \u001b[0;32mfor\u001b[0m \u001b[0mp\u001b[0m \u001b[0;32min\u001b[0m \u001b[0mboccat\u001b[0m\u001b[0;34m.\u001b[0m\u001b[0mfindAll\u001b[0m\u001b[0;34m(\u001b[0m\u001b[0;34m\"p\"\u001b[0m\u001b[0;34m)\u001b[0m\u001b[0;34m]\u001b[0m\u001b[0;34m\u001b[0m\u001b[0m\n\u001b[0m\u001b[1;32m     10\u001b[0m     \u001b[0;32mprint\u001b[0m \u001b[0mcategory_links\u001b[0m\u001b[0;34m\u001b[0m\u001b[0m\n\u001b[1;32m     11\u001b[0m     \u001b[0;32mreturn\u001b[0m \u001b[0mcategory_links\u001b[0m\u001b[0;34m\u001b[0m\u001b[0m\n",
        "\u001b[0;31mTypeError\u001b[0m: 'NoneType' object has no attribute '__getitem__'"
       ]
      }
     ],
     "prompt_number": 36
    },
    {
     "cell_type": "markdown",
     "metadata": {},
     "source": [
      "# Scraping from Other Examples"
     ]
    },
    {
     "cell_type": "markdown",
     "metadata": {},
     "source": [
      "## Example from Greg's blog"
     ]
    },
    {
     "cell_type": "code",
     "collapsed": false,
     "input": [
      "BASE_URL = \"http://www.chicagoreader.com\"\n",
      "\n",
      "def get_category_links(section_url):\n",
      "    html = urlopen(section_url).read()\n",
      "    soup = BeautifulSoup(html, \"lxml\")\n",
      "    boccat = soup.find(\"dl\", \"boccat\")\n",
      "    category_links = [BASE_URL + p.a[\"href\"] for p in boccat.findAll(\"dd\")]\n",
      "    print category_links\n",
      "    return category_links\n",
      "\n",
      "\n",
      "get_category_links(BASE_URL)"
     ],
     "language": "python",
     "metadata": {},
     "outputs": [
      {
       "ename": "AttributeError",
       "evalue": "'NoneType' object has no attribute 'findAll'",
       "output_type": "pyerr",
       "traceback": [
        "\u001b[0;31m---------------------------------------------------------------------------\u001b[0m\n\u001b[0;31mAttributeError\u001b[0m                            Traceback (most recent call last)",
        "\u001b[0;32m<ipython-input-5-ecbd03a0745e>\u001b[0m in \u001b[0;36m<module>\u001b[0;34m()\u001b[0m\n\u001b[1;32m     10\u001b[0m \u001b[0;34m\u001b[0m\u001b[0m\n\u001b[1;32m     11\u001b[0m \u001b[0;34m\u001b[0m\u001b[0m\n\u001b[0;32m---> 12\u001b[0;31m \u001b[0mget_category_links\u001b[0m\u001b[0;34m(\u001b[0m\u001b[0mBASE_URL\u001b[0m\u001b[0;34m)\u001b[0m\u001b[0;34m\u001b[0m\u001b[0m\n\u001b[0m",
        "\u001b[0;32m<ipython-input-5-ecbd03a0745e>\u001b[0m in \u001b[0;36mget_category_links\u001b[0;34m(section_url)\u001b[0m\n\u001b[1;32m      5\u001b[0m     \u001b[0msoup\u001b[0m \u001b[0;34m=\u001b[0m \u001b[0mBeautifulSoup\u001b[0m\u001b[0;34m(\u001b[0m\u001b[0mhtml\u001b[0m\u001b[0;34m,\u001b[0m \u001b[0;34m\"lxml\"\u001b[0m\u001b[0;34m)\u001b[0m\u001b[0;34m\u001b[0m\u001b[0m\n\u001b[1;32m      6\u001b[0m     \u001b[0mboccat\u001b[0m \u001b[0;34m=\u001b[0m \u001b[0msoup\u001b[0m\u001b[0;34m.\u001b[0m\u001b[0mfind\u001b[0m\u001b[0;34m(\u001b[0m\u001b[0;34m\"dl\"\u001b[0m\u001b[0;34m,\u001b[0m \u001b[0;34m\"boccat\"\u001b[0m\u001b[0;34m)\u001b[0m\u001b[0;34m\u001b[0m\u001b[0m\n\u001b[0;32m----> 7\u001b[0;31m     \u001b[0mcategory_links\u001b[0m \u001b[0;34m=\u001b[0m \u001b[0;34m[\u001b[0m\u001b[0mBASE_URL\u001b[0m \u001b[0;34m+\u001b[0m \u001b[0mp\u001b[0m\u001b[0;34m.\u001b[0m\u001b[0ma\u001b[0m\u001b[0;34m[\u001b[0m\u001b[0;34m\"href\"\u001b[0m\u001b[0;34m]\u001b[0m \u001b[0;32mfor\u001b[0m \u001b[0mp\u001b[0m \u001b[0;32min\u001b[0m \u001b[0mboccat\u001b[0m\u001b[0;34m.\u001b[0m\u001b[0mfindAll\u001b[0m\u001b[0;34m(\u001b[0m\u001b[0;34m\"dd\"\u001b[0m\u001b[0;34m)\u001b[0m\u001b[0;34m]\u001b[0m\u001b[0;34m\u001b[0m\u001b[0m\n\u001b[0m\u001b[1;32m      8\u001b[0m     \u001b[0;32mprint\u001b[0m \u001b[0mcategory_links\u001b[0m\u001b[0;34m\u001b[0m\u001b[0m\n\u001b[1;32m      9\u001b[0m     \u001b[0;32mreturn\u001b[0m \u001b[0mcategory_links\u001b[0m\u001b[0;34m\u001b[0m\u001b[0m\n",
        "\u001b[0;31mAttributeError\u001b[0m: 'NoneType' object has no attribute 'findAll'"
       ]
      }
     ],
     "prompt_number": 5
    },
    {
     "cell_type": "markdown",
     "metadata": {},
     "source": [
      "## Stack Overflow List Comprehension"
     ]
    },
    {
     "cell_type": "code",
     "collapsed": false,
     "input": [
      "html = \"<p>Good, <b>bad</b>, and <i>ug<b>l</b><u>y</u></i></p>\"\n",
      "invalid_tags = ['b', 'i', 'u', 'p', 'body', 'html']\n",
      "soup = BeautifulSoup(html)\n",
      "for tag in invalid_tags: \n",
      "    for match in soup.findAll(tag):\n",
      "        match.replaceWithChildren()\n",
      "print soup"
     ],
     "language": "python",
     "metadata": {},
     "outputs": [
      {
       "output_type": "stream",
       "stream": "stdout",
       "text": [
        "Good, bad, and ugly\n"
       ]
      }
     ],
     "prompt_number": 18
    },
    {
     "cell_type": "code",
     "collapsed": false,
     "input": [
      "Sources:\n",
      "    \n",
      "https://gist.github.com/gjreda/f3e6875f869779ec03db/download#\n",
      "http://dailytekk.com/2013/11/18/the-100-best-most-interesting-blogs-and-websites-of-2014-2/\n",
      "http://www.gregreda.com/2013/03/03/web-scraping-101-with-python/"
     ],
     "language": "python",
     "metadata": {},
     "outputs": []
    }
   ],
   "metadata": {}
  }
 ]
}