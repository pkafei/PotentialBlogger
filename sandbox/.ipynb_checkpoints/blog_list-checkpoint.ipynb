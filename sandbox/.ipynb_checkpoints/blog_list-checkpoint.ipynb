{
 "metadata": {
  "name": "",
  "signature": "sha256:6ffb10c1841f67c95f7a120f65397367cf3672683d320f49936ad9f4fc280b31"
 },
 "nbformat": 3,
 "nbformat_minor": 0,
 "worksheets": []
}