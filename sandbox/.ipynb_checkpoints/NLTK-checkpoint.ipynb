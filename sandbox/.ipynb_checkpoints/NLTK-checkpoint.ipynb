{
 "metadata": {
  "name": "",
  "signature": "sha256:e9571916c02998973fae4011b01badd9de54905265cf2d241ea4de6c09126cc3"
 },
 "nbformat": 3,
 "nbformat_minor": 0,
 "worksheets": [
  {
   "cells": [
    {
     "cell_type": "code",
     "collapsed": false,
     "input": [
      "# Python Natural Language Processing"
     ],
     "language": "python",
     "metadata": {},
     "outputs": []
    },
    {
     "cell_type": "markdown",
     "metadata": {},
     "source": [
      "I will be classifying and processing text in this notebook"
     ]
    },
    {
     "cell_type": "code",
     "collapsed": false,
     "input": [],
     "language": "python",
     "metadata": {},
     "outputs": []
    },
    {
     "cell_type": "markdown",
     "metadata": {},
     "source": [
      "Goals of Natural Language Processing:\n",
      "    A. Scrape blogger's content \n",
      "    B. Classify the content\n",
      "    C. Allow user to index content"
     ]
    },
    {
     "cell_type": "code",
     "collapsed": false,
     "input": [
      "Resources:\n",
      "    http://www.nltk.org/"
     ],
     "language": "python",
     "metadata": {},
     "outputs": []
    }
   ],
   "metadata": {}
  }
 ]
}