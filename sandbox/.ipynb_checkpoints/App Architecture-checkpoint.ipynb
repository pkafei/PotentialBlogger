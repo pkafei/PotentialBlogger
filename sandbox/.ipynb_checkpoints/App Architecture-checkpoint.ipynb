{
 "metadata": {
  "name": "",
  "signature": "sha256:0eb8ca471b81e1188c54e5756c6b3062320e37f0eafc3c36107bf1e83a388c4e"
 },
 "nbformat": 3,
 "nbformat_minor": 0,
 "worksheets": [
  {
   "cells": [
    {
     "cell_type": "markdown",
     "metadata": {},
     "source": [
      "## Blogging Recommendation Tasks"
     ]
    },
    {
     "cell_type": "markdown",
     "metadata": {},
     "source": [
      "### Tasks"
     ]
    },
    {
     "cell_type": "markdown",
     "metadata": {},
     "source": [
      "A. Data Scraping\n",
      "1. Build an RSS feeder\n",
      "2. Create scraper in bash\n",
      "\n",
      "B. Inserting Objects into Mongo\n",
      "1. Learning the query langauge\n",
      "\n",
      "C. How to go about Classicying "
     ]
    },
    {
     "cell_type": "code",
     "collapsed": false,
     "input": [
      "### Questions"
     ],
     "language": "python",
     "metadata": {},
     "outputs": []
    },
    {
     "cell_type": "markdown",
     "metadata": {},
     "source": [
      "1. How much preprocessing of the text should I perform?\n",
      "\n",
      "2. How to insert text into Mongo\n",
      "\n",
      "3. How to parse out author information (especially in HuffPost)"
     ]
    },
    {
     "cell_type": "code",
     "collapsed": false,
     "input": [
      "Useful links:\n",
      "    "
     ],
     "language": "python",
     "metadata": {},
     "outputs": []
    }
   ],
   "metadata": {}
  }
 ]
}