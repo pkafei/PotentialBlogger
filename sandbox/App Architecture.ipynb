{
 "metadata": {
  "name": "",
  "signature": "sha256:1a7f277b83fe002b890210c13aff1bb262463e381f9229cc30dc88fe68b98aa5"
 },
 "nbformat": 3,
 "nbformat_minor": 0,
 "worksheets": [
  {
   "cells": [
    {
     "cell_type": "markdown",
     "metadata": {},
     "source": [
      "## Blogging Recommendation Tasks"
     ]
    },
    {
     "cell_type": "markdown",
     "metadata": {},
     "source": [
      "### Tasks"
     ]
    },
    {
     "cell_type": "markdown",
     "metadata": {},
     "source": [
      "A. Data Scraping\n",
      "1. Build an RSS feeder\n",
      "2. Create scraper in bash\n",
      "\n",
      "B. Inserting Objects into Mongo\n",
      "1. Learning the query langauge\n",
      "\n",
      "C. How to go about Classifying "
     ]
    },
    {
     "cell_type": "code",
     "collapsed": false,
     "input": [
      "### Questions"
     ],
     "language": "python",
     "metadata": {},
     "outputs": []
    },
    {
     "cell_type": "markdown",
     "metadata": {},
     "source": [
      "1. How much preprocessing of the text should I perform?\n",
      "\n",
      "2. How to insert text into Mongo\n",
      "\n",
      "3. How to parse out author information (especially in HuffPost)"
     ]
    },
    {
     "cell_type": "code",
     "collapsed": false,
     "input": [
      "Useful links:\n",
      "    http://nbviewer.ipython.org/gist/rjweiss/7158866"
     ],
     "language": "python",
     "metadata": {},
     "outputs": []
    }
   ],
   "metadata": {}
  }
 ]
}